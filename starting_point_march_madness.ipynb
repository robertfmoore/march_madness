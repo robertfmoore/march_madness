{
  "nbformat": 4,
  "nbformat_minor": 0,
  "metadata": {
    "kernelspec": {
      "language": "python",
      "display_name": "Python 3",
      "name": "python3"
    },
    "language_info": {
      "pygments_lexer": "ipython3",
      "nbconvert_exporter": "python",
      "version": "3.6.4",
      "file_extension": ".py",
      "codemirror_mode": {
        "name": "ipython",
        "version": 3
      },
      "name": "python",
      "mimetype": "text/x-python"
    },
    "colab": {
      "name": "March Madness 2020 NCAAM EDA and baseline.ipynb",
      "provenance": []
    }
  },
  "cells": [
    {
      "cell_type": "markdown",
      "metadata": {
        "id": "1NuhBwlsWOC3",
        "colab_type": "text"
      },
      "source": [
        "# *__Make March less Mad 2020__*"
      ]
    },
    {
      "cell_type": "markdown",
      "metadata": {
        "id": "oaqz-eIS11p7",
        "colab_type": "text"
      },
      "source": [
        "## Import libraries"
      ]
    },
    {
      "cell_type": "code",
      "metadata": {
        "id": "sRZEl19aP5PR",
        "colab_type": "code",
        "colab": {
          "base_uri": "https://localhost:8080/",
          "height": 266
        },
        "outputId": "6d9563ac-e61a-494c-a610-555c10e415c6"
      },
      "source": [
        "!pip install scprep"
      ],
      "execution_count": 33,
      "outputs": [
        {
          "output_type": "stream",
          "text": [
            "Collecting scprep\n",
            "\u001b[?25l  Downloading https://files.pythonhosted.org/packages/74/24/242b0903bf0dbfb2e9e6245317ef5597f5b7252684826a6a9100adcfbb8e/scprep-1.0.4-py3-none-any.whl (96kB)\n",
            "\r\u001b[K     |███▍                            | 10kB 18.3MB/s eta 0:00:01\r\u001b[K     |██████▊                         | 20kB 1.8MB/s eta 0:00:01\r\u001b[K     |██████████▏                     | 30kB 2.6MB/s eta 0:00:01\r\u001b[K     |█████████████▌                  | 40kB 1.7MB/s eta 0:00:01\r\u001b[K     |█████████████████               | 51kB 2.1MB/s eta 0:00:01\r\u001b[K     |████████████████████▎           | 61kB 2.5MB/s eta 0:00:01\r\u001b[K     |███████████████████████▊        | 71kB 2.9MB/s eta 0:00:01\r\u001b[K     |███████████████████████████     | 81kB 3.3MB/s eta 0:00:01\r\u001b[K     |██████████████████████████████▌ | 92kB 3.7MB/s eta 0:00:01\r\u001b[K     |████████████████████████████████| 102kB 3.1MB/s \n",
            "\u001b[?25hRequirement already satisfied: numpy>=1.12.0 in /usr/local/lib/python3.6/dist-packages (from scprep) (1.17.5)\n",
            "Requirement already satisfied: scikit-learn>=0.19.1 in /usr/local/lib/python3.6/dist-packages (from scprep) (0.22.1)\n",
            "Requirement already satisfied: scipy>=0.18.1 in /usr/local/lib/python3.6/dist-packages (from scprep) (1.4.1)\n",
            "Requirement already satisfied: decorator>=4.3.0 in /usr/local/lib/python3.6/dist-packages (from scprep) (4.4.1)\n",
            "Requirement already satisfied: pandas>=0.25 in /usr/local/lib/python3.6/dist-packages (from scprep) (0.25.3)\n",
            "Requirement already satisfied: joblib>=0.11 in /usr/local/lib/python3.6/dist-packages (from scikit-learn>=0.19.1->scprep) (0.14.1)\n",
            "Requirement already satisfied: python-dateutil>=2.6.1 in /usr/local/lib/python3.6/dist-packages (from pandas>=0.25->scprep) (2.6.1)\n",
            "Requirement already satisfied: pytz>=2017.2 in /usr/local/lib/python3.6/dist-packages (from pandas>=0.25->scprep) (2018.9)\n",
            "Requirement already satisfied: six>=1.5 in /usr/local/lib/python3.6/dist-packages (from python-dateutil>=2.6.1->pandas>=0.25->scprep) (1.12.0)\n",
            "Installing collected packages: scprep\n",
            "Successfully installed scprep-1.0.4\n"
          ],
          "name": "stdout"
        }
      ]
    },
    {
      "cell_type": "code",
      "metadata": {
        "_uuid": "8f2839f25d086af736a60e9eeb907d3b93b6e0e5",
        "_cell_guid": "b1076dfc-b9ad-4769-8c92-a6c4dae69d19",
        "trusted": true,
        "_kg_hide-input": true,
        "id": "BJYHOQIn11p-",
        "colab_type": "code",
        "outputId": "d321edcf-f311-4dd6-f13f-7a4485c69c20",
        "colab": {
          "base_uri": "https://localhost:8080/",
          "height": 17
        }
      },
      "source": [
        "# Libraries\n",
        "import numpy as np\n",
        "import pandas as pd\n",
        "pd.set_option('max_columns', None)\n",
        "import matplotlib.pyplot as plt\n",
        "import seaborn as sns\n",
        "plt.style.use('seaborn')\n",
        "%matplotlib inline\n",
        "import copy\n",
        "import datetime\n",
        "import lightgbm as lgb\n",
        "from scipy import stats\n",
        "from sklearn.model_selection import train_test_split, StratifiedKFold, KFold, cross_val_score, GridSearchCV, RepeatedStratifiedKFold\n",
        "from sklearn.preprocessing import StandardScaler\n",
        "import os\n",
        "import plotly.offline as py\n",
        "py.init_notebook_mode(connected=True)\n",
        "import plotly.graph_objs as go\n",
        "import plotly.tools as tls\n",
        "import xgboost as xgb\n",
        "import lightgbm as lgb\n",
        "from sklearn import model_selection\n",
        "from sklearn.metrics import accuracy_score, roc_auc_score, log_loss, classification_report, confusion_matrix\n",
        "import json\n",
        "import ast\n",
        "import time\n",
        "from sklearn import linear_model\n",
        "\n",
        "import warnings\n",
        "warnings.filterwarnings('ignore')\n",
        "\n",
        "import os\n",
        "import glob\n",
        "\n",
        "from sklearn.base import BaseEstimator, TransformerMixin\n",
        "from sklearn.preprocessing import LabelEncoder"
      ],
      "execution_count": 1,
      "outputs": [
        {
          "output_type": "display_data",
          "data": {
            "text/html": [
              "        <script type=\"text/javascript\">\n",
              "        window.PlotlyConfig = {MathJaxConfig: 'local'};\n",
              "        if (window.MathJax) {MathJax.Hub.Config({SVG: {font: \"STIX-Web\"}});}\n",
              "        if (typeof require !== 'undefined') {\n",
              "        require.undef(\"plotly\");\n",
              "        requirejs.config({\n",
              "            paths: {\n",
              "                'plotly': ['https://cdn.plot.ly/plotly-latest.min']\n",
              "            }\n",
              "        });\n",
              "        require(['plotly'], function(Plotly) {\n",
              "            window._Plotly = Plotly;\n",
              "        });\n",
              "        }\n",
              "        </script>\n",
              "        "
            ]
          },
          "metadata": {
            "tags": []
          }
        }
      ]
    },
    {
      "cell_type": "code",
      "metadata": {
        "id": "GvrAEGmDYCC-",
        "colab_type": "code",
        "colab": {}
      },
      "source": [
        "class LGBWrapper(object):\n",
        "    \"\"\"\n",
        "    A wrapper for lightgbm model so that we will have a single api for various models.\n",
        "    \"\"\"\n",
        "\n",
        "    def __init__(self):\n",
        "        self.model = lgb.LGBMClassifier()\n",
        "\n",
        "    def fit(self, X_train, y_train, X_valid=None, y_valid=None, X_holdout=None, y_holdout=None, params=None):\n",
        "\n",
        "        eval_set = [(X_train, y_train)]\n",
        "        eval_names = ['train']\n",
        "        self.model = self.model.set_params(**params)\n",
        "\n",
        "        if X_valid is not None:\n",
        "            eval_set.append((X_valid, y_valid))\n",
        "            eval_names.append('valid')\n",
        "\n",
        "        if X_holdout is not None:\n",
        "            eval_set.append((X_holdout, y_holdout))\n",
        "            eval_names.append('holdout')\n",
        "\n",
        "        if 'cat_cols' in params.keys():\n",
        "            cat_cols = [col for col in params['cat_cols'] if col in X_train.columns]\n",
        "            if len(cat_cols) > 0:\n",
        "                categorical_columns = params['cat_cols']\n",
        "            else:\n",
        "                categorical_columns = 'auto'\n",
        "        else:\n",
        "            categorical_columns = 'auto'\n",
        "\n",
        "        self.model.fit(X=X_train, y=y_train,\n",
        "                       eval_set=eval_set, eval_names=eval_names,\n",
        "                       verbose=params['verbose'], early_stopping_rounds=params['early_stopping_rounds'])\n",
        "\n",
        "        self.best_score_ = self.model.best_score_\n",
        "        self.feature_importances_ = self.model.feature_importances_\n",
        "\n",
        "    def predict_proba(self, X_test):\n",
        "        if self.model.objective == 'binary':\n",
        "            return self.model.predict_proba(X_test, num_iteration=self.model.best_iteration_)[:, 1]\n",
        "        else:\n",
        "            return self.model.predict_proba(X_test, num_iteration=self.model.best_iteration_)"
      ],
      "execution_count": 0,
      "outputs": []
    },
    {
      "cell_type": "code",
      "metadata": {
        "id": "oSIUE0waYDUj",
        "colab_type": "code",
        "colab": {}
      },
      "source": [
        "class MainTransformer(BaseEstimator, TransformerMixin):\n",
        "\n",
        "    def __init__(self, convert_cyclical: bool = False, create_interactions: bool = False, n_interactions: int = 20):\n",
        "        \"\"\"\n",
        "        Main transformer for the data. Can be used for processing on the whole data.\n",
        "\n",
        "        :param convert_cyclical: convert cyclical features into continuous\n",
        "        :param create_interactions: create interactions between features\n",
        "        \"\"\"\n",
        "\n",
        "        self.convert_cyclical = convert_cyclical\n",
        "        self.create_interactions = create_interactions\n",
        "        self.feats_for_interaction = None\n",
        "        self.n_interactions = n_interactions\n",
        "\n",
        "    def fit(self, X, y=None):\n",
        "\n",
        "        if self.create_interactions:\n",
        "            pass\n",
        "        return self\n",
        "\n",
        "    def transform(self, X, y=None):\n",
        "        data = copy.deepcopy(X)\n",
        "\n",
        "        # data['installation_event_code_count_mean'] = data.groupby(['installation_id'])['sum_event_code_count'].transform('mean')\n",
        "\n",
        "        return data\n",
        "\n",
        "    def fit_transform(self, X, y=None, **fit_params):\n",
        "        data = copy.deepcopy(X)\n",
        "        self.fit(data)\n",
        "        return self.transform(data)\n",
        "\n",
        "\n",
        "class FeatureTransformer(BaseEstimator, TransformerMixin):\n",
        "\n",
        "    def __init__(self, main_cat_features: list = None, num_cols: list = None):\n",
        "        \"\"\"\n",
        "\n",
        "        :param main_cat_features:\n",
        "        :param num_cols:\n",
        "        \"\"\"\n",
        "        self.main_cat_features = main_cat_features\n",
        "        self.num_cols = num_cols\n",
        "\n",
        "    def fit(self, X, y=None):\n",
        "\n",
        "        self.num_cols = [col for col in X.columns if 'sum' in col or 'mean' in col or 'max' in col or 'std' in col\n",
        "                         or 'attempt' in col]\n",
        "\n",
        "        return self\n",
        "\n",
        "    def transform(self, X, y=None):\n",
        "        data = copy.deepcopy(X)\n",
        "#         for col in self.num_cols:\n",
        "#             data[f'{col}_to_mean'] = data[col] / data.groupby('installation_id')[col].transform('mean')\n",
        "#             data[f'{col}_to_std'] = data[col] / data.groupby('installation_id')[col].transform('std')\n",
        "\n",
        "        return data\n",
        "\n",
        "    def fit_transform(self, X, y=None, **fit_params):\n",
        "        data = copy.deepcopy(X)\n",
        "        self.fit(data)\n",
        "        return self.transform(data)"
      ],
      "execution_count": 0,
      "outputs": []
    },
    {
      "cell_type": "code",
      "metadata": {
        "id": "3KCRkwDNYJ9L",
        "colab_type": "code",
        "colab": {}
      },
      "source": [
        "class ClassifierModel(object):\n",
        "    \"\"\"\n",
        "    A wrapper class for classification models.\n",
        "    It can be used for training and prediction.\n",
        "    Can plot feature importance and training progress (if relevant for model).\n",
        "\n",
        "    \"\"\"\n",
        "\n",
        "    def __init__(self, columns: list = None, model_wrapper=None):\n",
        "        \"\"\"\n",
        "\n",
        "        :param original_columns:\n",
        "        :param model_wrapper:\n",
        "        \"\"\"\n",
        "        self.columns = columns\n",
        "        self.model_wrapper = model_wrapper\n",
        "        self.result_dict = {}\n",
        "        self.train_one_fold = False\n",
        "        self.preprocesser = None\n",
        "\n",
        "    def fit(self, X: pd.DataFrame, y,\n",
        "            X_holdout: pd.DataFrame = None, y_holdout=None,\n",
        "            folds=None,\n",
        "            params: dict = None,\n",
        "            eval_metric='auc',\n",
        "            cols_to_drop: list = None,\n",
        "            preprocesser=None,\n",
        "            transformers: dict = None,\n",
        "            adversarial: bool = False,\n",
        "            plot: bool = True):\n",
        "        \"\"\"\n",
        "        Training the model.\n",
        "\n",
        "        :param X: training data\n",
        "        :param y: training target\n",
        "        :param X_holdout: holdout data\n",
        "        :param y_holdout: holdout target\n",
        "        :param folds: folds to split the data. If not defined, then model will be trained on the whole X\n",
        "        :param params: training parameters\n",
        "        :param eval_metric: metric for validataion\n",
        "        :param cols_to_drop: list of columns to drop (for example ID)\n",
        "        :param preprocesser: preprocesser class\n",
        "        :param transformers: transformer to use on folds\n",
        "        :param adversarial\n",
        "        :return:\n",
        "        \"\"\"\n",
        "        self.cols_to_drop = cols_to_drop\n",
        "\n",
        "        if folds is None:\n",
        "            folds = KFold(n_splits=3, random_state=42)\n",
        "            self.train_one_fold = True\n",
        "\n",
        "        self.columns = X.columns if self.columns is None else self.columns\n",
        "        self.feature_importances = pd.DataFrame(columns=['feature', 'importance'])\n",
        "        self.trained_transformers = {k: [] for k in transformers}\n",
        "        self.transformers = transformers\n",
        "        self.models = []\n",
        "        self.folds_dict = {}\n",
        "        self.eval_metric = eval_metric\n",
        "        n_target = 1 if len(set(y.values)) == 2 else len(set(y.values))\n",
        "        self.oof = np.zeros((len(X), n_target))\n",
        "        self.n_target = n_target\n",
        "\n",
        "        X = X[self.columns]\n",
        "        if X_holdout is not None:\n",
        "            X_holdout = X_holdout[self.columns]\n",
        "\n",
        "        if preprocesser is not None:\n",
        "            self.preprocesser = preprocesser\n",
        "            self.preprocesser.fit(X, y)\n",
        "            X = self.preprocesser.transform(X, y)\n",
        "            self.columns = X.columns.tolist()\n",
        "            if X_holdout is not None:\n",
        "                X_holdout = self.preprocesser.transform(X_holdout)\n",
        "            # y = X['accuracy_group']\n",
        "\n",
        "        for fold_n, (train_index, valid_index) in enumerate(folds.split(X, y)):\n",
        "            if X_holdout is not None:\n",
        "                X_hold = X_holdout.copy()\n",
        "            else:\n",
        "                X_hold = None\n",
        "            self.folds_dict[fold_n] = {}\n",
        "            if params['verbose']:\n",
        "                print(f'Fold {fold_n + 1} started at {time.ctime()}')\n",
        "            self.folds_dict[fold_n] = {}\n",
        "\n",
        "            X_train, X_valid = X.iloc[train_index], X.iloc[valid_index]\n",
        "            y_train, y_valid = y.iloc[train_index], y.iloc[valid_index]\n",
        "            if self.train_one_fold:\n",
        "                X_train = X[self.original_columns]\n",
        "                y_train = y\n",
        "                X_valid = None\n",
        "                y_valid = None\n",
        "\n",
        "            datasets = {'X_train': X_train, 'X_valid': X_valid, 'X_holdout': X_hold, 'y_train': y_train}\n",
        "            X_train, X_valid, X_hold = self.transform_(datasets, cols_to_drop)\n",
        "\n",
        "            self.folds_dict[fold_n]['columns'] = X_train.columns.tolist()\n",
        "\n",
        "            model = copy.deepcopy(self.model_wrapper)\n",
        "\n",
        "            if adversarial:\n",
        "                X_new1 = X_train.copy()\n",
        "                if X_valid is not None:\n",
        "                    X_new2 = X_valid.copy()\n",
        "                elif X_holdout is not None:\n",
        "                    X_new2 = X_holdout.copy()\n",
        "                X_new = pd.concat([X_new1, X_new2], axis=0)\n",
        "                y_new = np.hstack((np.zeros((X_new1.shape[0])), np.ones((X_new2.shape[0]))))\n",
        "                X_train, X_valid, y_train, y_valid = train_test_split(X_new, y_new)\n",
        "\n",
        "            model.fit(X_train, y_train, X_valid, y_valid, X_hold, y_holdout, params=params)\n",
        "\n",
        "            self.folds_dict[fold_n]['scores'] = model.best_score_\n",
        "            if self.oof.shape[0] != len(X):\n",
        "                self.oof = np.zeros((X.shape[0], self.oof.shape[1]))\n",
        "            if not adversarial:\n",
        "                self.oof[valid_index] = model.predict_proba(X_valid).reshape(-1, n_target)\n",
        "\n",
        "            fold_importance = pd.DataFrame(list(zip(X_train.columns, model.feature_importances_)),\n",
        "                                           columns=['feature', 'importance'])\n",
        "            self.feature_importances = self.feature_importances.append(fold_importance)\n",
        "            self.models.append(model)\n",
        "\n",
        "        self.feature_importances['importance'] = self.feature_importances['importance'].astype(float)\n",
        "\n",
        "        # if params['verbose']:\n",
        "        self.calc_scores_()\n",
        "\n",
        "        if plot:\n",
        "#             print(classification_report(y, self.oof.argmax(1)))\n",
        "            print(classification_report(y, (self.oof > 0.5) * 1))\n",
        "            fig, ax = plt.subplots(figsize=(16, 12))\n",
        "            plt.subplot(2, 2, 1)\n",
        "            self.plot_feature_importance(top_n=25)\n",
        "            plt.subplot(2, 2, 2)\n",
        "            self.plot_metric()\n",
        "            plt.subplot(2, 2, 3)\n",
        "            g = sns.heatmap(confusion_matrix(y, (self.oof > 0.5) * 1), annot=True, cmap=plt.cm.Blues,fmt=\"d\")\n",
        "            g.set(ylim=(-0.5, 4), xlim=(-0.5, 4), title='Confusion matrix')\n",
        "\n",
        "            plt.subplot(2, 2, 4)\n",
        "            plt.hist(self.oof)\n",
        "            plt.xticks(range(self.n_target), range(self.n_target))\n",
        "            plt.title('Distribution of oof predictions');\n",
        "\n",
        "    def transform_(self, datasets, cols_to_drop):\n",
        "        for name, transformer in self.transformers.items():\n",
        "            transformer.fit(datasets['X_train'], datasets['y_train'])\n",
        "            datasets['X_train'] = transformer.transform(datasets['X_train'])\n",
        "            if datasets['X_valid'] is not None:\n",
        "                datasets['X_valid'] = transformer.transform(datasets['X_valid'])\n",
        "            if datasets['X_holdout'] is not None:\n",
        "                datasets['X_holdout'] = transformer.transform(datasets['X_holdout'])\n",
        "            self.trained_transformers[name].append(transformer)\n",
        "        if cols_to_drop is not None:\n",
        "            cols_to_drop = [col for col in cols_to_drop if col in datasets['X_train'].columns]\n",
        "            self.cols_to_drop = cols_to_drop\n",
        "            datasets['X_train'] = datasets['X_train'].drop(cols_to_drop, axis=1)\n",
        "            if datasets['X_valid'] is not None:\n",
        "                datasets['X_valid'] = datasets['X_valid'].drop(cols_to_drop, axis=1)\n",
        "            if datasets['X_holdout'] is not None:\n",
        "                datasets['X_holdout'] = datasets['X_holdout'].drop(cols_to_drop, axis=1)\n",
        "\n",
        "        return datasets['X_train'], datasets['X_valid'], datasets['X_holdout']\n",
        "\n",
        "    def calc_scores_(self):\n",
        "        print()\n",
        "        datasets = [k for k, v in [v['scores'] for k, v in self.folds_dict.items()][0].items() if len(v) > 0]\n",
        "        self.scores = {}\n",
        "        for d in datasets:\n",
        "            scores = [v['scores'][d][self.eval_metric] for k, v in self.folds_dict.items()]\n",
        "            print(f\"CV mean score on {d}: {np.mean(scores):.4f} +/- {np.std(scores):.4f} std.\")\n",
        "            self.scores[d] = np.mean(scores)\n",
        "\n",
        "    def predict(self, X_test, averaging: str = 'usual'):\n",
        "        \"\"\"\n",
        "        Make prediction\n",
        "\n",
        "        :param X_test:\n",
        "        :param averaging: method of averaging\n",
        "        :return:\n",
        "        \"\"\"\n",
        "        full_prediction = np.zeros((X_test.shape[0], self.oof.shape[1]))\n",
        "        if self.preprocesser is not None:\n",
        "            X_test = self.preprocesser.transform(X_test)\n",
        "        for i in range(len(self.models)):\n",
        "            X_t = X_test.copy()\n",
        "            for name, transformers in self.trained_transformers.items():\n",
        "                X_t = transformers[i].transform(X_t)\n",
        "            if self.cols_to_drop:\n",
        "                cols_to_drop = [col for col in self.cols_to_drop if col in X_t.columns]\n",
        "                X_t = X_t.drop(cols_to_drop, axis=1)\n",
        "            y_pred = self.models[i].predict_proba(X_t[self.folds_dict[i]['columns']]).reshape(-1, full_prediction.shape[1])\n",
        "\n",
        "            # if case transformation changes the number of the rows\n",
        "            if full_prediction.shape[0] != len(y_pred):\n",
        "                full_prediction = np.zeros((y_pred.shape[0], self.oof.shape[1]))\n",
        "\n",
        "            if averaging == 'usual':\n",
        "                full_prediction += y_pred\n",
        "            elif averaging == 'rank':\n",
        "                full_prediction += pd.Series(y_pred).rank().values\n",
        "\n",
        "        return full_prediction / len(self.models)\n",
        "\n",
        "    def plot_feature_importance(self, drop_null_importance: bool = True, top_n: int = 10):\n",
        "        \"\"\"\n",
        "        Plot default feature importance.\n",
        "\n",
        "        :param drop_null_importance: drop columns with null feature importance\n",
        "        :param top_n: show top n columns\n",
        "        :return:\n",
        "        \"\"\"\n",
        "\n",
        "        top_feats = self.get_top_features(drop_null_importance, top_n)\n",
        "        feature_importances = self.feature_importances.loc[self.feature_importances['feature'].isin(top_feats)]\n",
        "        feature_importances['feature'] = feature_importances['feature'].astype(str)\n",
        "        top_feats = [str(i) for i in top_feats]\n",
        "        sns.barplot(data=feature_importances, x='importance', y='feature', orient='h', order=top_feats)\n",
        "        plt.title('Feature importances')\n",
        "\n",
        "    def get_top_features(self, drop_null_importance: bool = True, top_n: int = 10):\n",
        "        \"\"\"\n",
        "        Get top features by importance.\n",
        "\n",
        "        :param drop_null_importance:\n",
        "        :param top_n:\n",
        "        :return:\n",
        "        \"\"\"\n",
        "        grouped_feats = self.feature_importances.groupby(['feature'])['importance'].mean()\n",
        "        if drop_null_importance:\n",
        "            grouped_feats = grouped_feats[grouped_feats != 0]\n",
        "        return list(grouped_feats.sort_values(ascending=False).index)[:top_n]\n",
        "\n",
        "    def plot_metric(self):\n",
        "        \"\"\"\n",
        "        Plot training progress.\n",
        "        Inspired by `plot_metric` from https://lightgbm.readthedocs.io/en/latest/_modules/lightgbm/plotting.html\n",
        "\n",
        "        :return:\n",
        "        \"\"\"\n",
        "        full_evals_results = pd.DataFrame()\n",
        "        for model in self.models:\n",
        "            evals_result = pd.DataFrame()\n",
        "            for k in model.model.evals_result_.keys():\n",
        "                evals_result[k] = model.model.evals_result_[k][self.eval_metric]\n",
        "            evals_result = evals_result.reset_index().rename(columns={'index': 'iteration'})\n",
        "            full_evals_results = full_evals_results.append(evals_result)\n",
        "\n",
        "        full_evals_results = full_evals_results.melt(id_vars=['iteration']).rename(columns={'value': self.eval_metric,\n",
        "                                                                                            'variable': 'dataset'})\n",
        "        full_evals_results[self.eval_metric] = np.abs(full_evals_results[self.eval_metric])\n",
        "        sns.lineplot(data=full_evals_results, x='iteration', y=self.eval_metric, hue='dataset')\n",
        "        plt.title('Training progress')"
      ],
      "execution_count": 0,
      "outputs": []
    },
    {
      "cell_type": "markdown",
      "metadata": {
        "id": "xgEmC28WXMM7",
        "colab_type": "text"
      },
      "source": [
        "## Import Data from Kaggle"
      ]
    },
    {
      "cell_type": "code",
      "metadata": {
        "id": "VT4Rrt3NPGPE",
        "colab_type": "code",
        "outputId": "61dfe4e7-edf7-415f-81f1-b1c0c69bf15c",
        "colab": {
          "resources": {
            "http://localhost:8080/nbextensions/google.colab/files.js": {
              "data": "Ly8gQ29weXJpZ2h0IDIwMTcgR29vZ2xlIExMQwovLwovLyBMaWNlbnNlZCB1bmRlciB0aGUgQXBhY2hlIExpY2Vuc2UsIFZlcnNpb24gMi4wICh0aGUgIkxpY2Vuc2UiKTsKLy8geW91IG1heSBub3QgdXNlIHRoaXMgZmlsZSBleGNlcHQgaW4gY29tcGxpYW5jZSB3aXRoIHRoZSBMaWNlbnNlLgovLyBZb3UgbWF5IG9idGFpbiBhIGNvcHkgb2YgdGhlIExpY2Vuc2UgYXQKLy8KLy8gICAgICBodHRwOi8vd3d3LmFwYWNoZS5vcmcvbGljZW5zZXMvTElDRU5TRS0yLjAKLy8KLy8gVW5sZXNzIHJlcXVpcmVkIGJ5IGFwcGxpY2FibGUgbGF3IG9yIGFncmVlZCB0byBpbiB3cml0aW5nLCBzb2Z0d2FyZQovLyBkaXN0cmlidXRlZCB1bmRlciB0aGUgTGljZW5zZSBpcyBkaXN0cmlidXRlZCBvbiBhbiAiQVMgSVMiIEJBU0lTLAovLyBXSVRIT1VUIFdBUlJBTlRJRVMgT1IgQ09ORElUSU9OUyBPRiBBTlkgS0lORCwgZWl0aGVyIGV4cHJlc3Mgb3IgaW1wbGllZC4KLy8gU2VlIHRoZSBMaWNlbnNlIGZvciB0aGUgc3BlY2lmaWMgbGFuZ3VhZ2UgZ292ZXJuaW5nIHBlcm1pc3Npb25zIGFuZAovLyBsaW1pdGF0aW9ucyB1bmRlciB0aGUgTGljZW5zZS4KCi8qKgogKiBAZmlsZW92ZXJ2aWV3IEhlbHBlcnMgZm9yIGdvb2dsZS5jb2xhYiBQeXRob24gbW9kdWxlLgogKi8KKGZ1bmN0aW9uKHNjb3BlKSB7CmZ1bmN0aW9uIHNwYW4odGV4dCwgc3R5bGVBdHRyaWJ1dGVzID0ge30pIHsKICBjb25zdCBlbGVtZW50ID0gZG9jdW1lbnQuY3JlYXRlRWxlbWVudCgnc3BhbicpOwogIGVsZW1lbnQudGV4dENvbnRlbnQgPSB0ZXh0OwogIGZvciAoY29uc3Qga2V5IG9mIE9iamVjdC5rZXlzKHN0eWxlQXR0cmlidXRlcykpIHsKICAgIGVsZW1lbnQuc3R5bGVba2V5XSA9IHN0eWxlQXR0cmlidXRlc1trZXldOwogIH0KICByZXR1cm4gZWxlbWVudDsKfQoKLy8gTWF4IG51bWJlciBvZiBieXRlcyB3aGljaCB3aWxsIGJlIHVwbG9hZGVkIGF0IGEgdGltZS4KY29uc3QgTUFYX1BBWUxPQURfU0laRSA9IDEwMCAqIDEwMjQ7Ci8vIE1heCBhbW91bnQgb2YgdGltZSB0byBibG9jayB3YWl0aW5nIGZvciB0aGUgdXNlci4KY29uc3QgRklMRV9DSEFOR0VfVElNRU9VVF9NUyA9IDMwICogMTAwMDsKCmZ1bmN0aW9uIF91cGxvYWRGaWxlcyhpbnB1dElkLCBvdXRwdXRJZCkgewogIGNvbnN0IHN0ZXBzID0gdXBsb2FkRmlsZXNTdGVwKGlucHV0SWQsIG91dHB1dElkKTsKICBjb25zdCBvdXRwdXRFbGVtZW50ID0gZG9jdW1lbnQuZ2V0RWxlbWVudEJ5SWQob3V0cHV0SWQpOwogIC8vIENhY2hlIHN0ZXBzIG9uIHRoZSBvdXRwdXRFbGVtZW50IHRvIG1ha2UgaXQgYXZhaWxhYmxlIGZvciB0aGUgbmV4dCBjYWxsCiAgLy8gdG8gdXBsb2FkRmlsZXNDb250aW51ZSBmcm9tIFB5dGhvbi4KICBvdXRwdXRFbGVtZW50LnN0ZXBzID0gc3RlcHM7CgogIHJldHVybiBfdXBsb2FkRmlsZXNDb250aW51ZShvdXRwdXRJZCk7Cn0KCi8vIFRoaXMgaXMgcm91Z2hseSBhbiBhc3luYyBnZW5lcmF0b3IgKG5vdCBzdXBwb3J0ZWQgaW4gdGhlIGJyb3dzZXIgeWV0KSwKLy8gd2hlcmUgdGhlcmUgYXJlIG11bHRpcGxlIGFzeW5jaHJvbm91cyBzdGVwcyBhbmQgdGhlIFB5dGhvbiBzaWRlIGlzIGdvaW5nCi8vIHRvIHBvbGwgZm9yIGNvbXBsZXRpb24gb2YgZWFjaCBzdGVwLgovLyBUaGlzIHVzZXMgYSBQcm9taXNlIHRvIGJsb2NrIHRoZSBweXRob24gc2lkZSBvbiBjb21wbGV0aW9uIG9mIGVhY2ggc3RlcCwKLy8gdGhlbiBwYXNzZXMgdGhlIHJlc3VsdCBvZiB0aGUgcHJldmlvdXMgc3RlcCBhcyB0aGUgaW5wdXQgdG8gdGhlIG5leHQgc3RlcC4KZnVuY3Rpb24gX3VwbG9hZEZpbGVzQ29udGludWUob3V0cHV0SWQpIHsKICBjb25zdCBvdXRwdXRFbGVtZW50ID0gZG9jdW1lbnQuZ2V0RWxlbWVudEJ5SWQob3V0cHV0SWQpOwogIGNvbnN0IHN0ZXBzID0gb3V0cHV0RWxlbWVudC5zdGVwczsKCiAgY29uc3QgbmV4dCA9IHN0ZXBzLm5leHQob3V0cHV0RWxlbWVudC5sYXN0UHJvbWlzZVZhbHVlKTsKICByZXR1cm4gUHJvbWlzZS5yZXNvbHZlKG5leHQudmFsdWUucHJvbWlzZSkudGhlbigodmFsdWUpID0+IHsKICAgIC8vIENhY2hlIHRoZSBsYXN0IHByb21pc2UgdmFsdWUgdG8gbWFrZSBpdCBhdmFpbGFibGUgdG8gdGhlIG5leHQKICAgIC8vIHN0ZXAgb2YgdGhlIGdlbmVyYXRvci4KICAgIG91dHB1dEVsZW1lbnQubGFzdFByb21pc2VWYWx1ZSA9IHZhbHVlOwogICAgcmV0dXJuIG5leHQudmFsdWUucmVzcG9uc2U7CiAgfSk7Cn0KCi8qKgogKiBHZW5lcmF0b3IgZnVuY3Rpb24gd2hpY2ggaXMgY2FsbGVkIGJldHdlZW4gZWFjaCBhc3luYyBzdGVwIG9mIHRoZSB1cGxvYWQKICogcHJvY2Vzcy4KICogQHBhcmFtIHtzdHJpbmd9IGlucHV0SWQgRWxlbWVudCBJRCBvZiB0aGUgaW5wdXQgZmlsZSBwaWNrZXIgZWxlbWVudC4KICogQHBhcmFtIHtzdHJpbmd9IG91dHB1dElkIEVsZW1lbnQgSUQgb2YgdGhlIG91dHB1dCBkaXNwbGF5LgogKiBAcmV0dXJuIHshSXRlcmFibGU8IU9iamVjdD59IEl0ZXJhYmxlIG9mIG5leHQgc3RlcHMuCiAqLwpmdW5jdGlvbiogdXBsb2FkRmlsZXNTdGVwKGlucHV0SWQsIG91dHB1dElkKSB7CiAgY29uc3QgaW5wdXRFbGVtZW50ID0gZG9jdW1lbnQuZ2V0RWxlbWVudEJ5SWQoaW5wdXRJZCk7CiAgaW5wdXRFbGVtZW50LmRpc2FibGVkID0gZmFsc2U7CgogIGNvbnN0IG91dHB1dEVsZW1lbnQgPSBkb2N1bWVudC5nZXRFbGVtZW50QnlJZChvdXRwdXRJZCk7CiAgb3V0cHV0RWxlbWVudC5pbm5lckhUTUwgPSAnJzsKCiAgY29uc3QgcGlja2VkUHJvbWlzZSA9IG5ldyBQcm9taXNlKChyZXNvbHZlKSA9PiB7CiAgICBpbnB1dEVsZW1lbnQuYWRkRXZlbnRMaXN0ZW5lcignY2hhbmdlJywgKGUpID0+IHsKICAgICAgcmVzb2x2ZShlLnRhcmdldC5maWxlcyk7CiAgICB9KTsKICB9KTsKCiAgY29uc3QgY2FuY2VsID0gZG9jdW1lbnQuY3JlYXRlRWxlbWVudCgnYnV0dG9uJyk7CiAgaW5wdXRFbGVtZW50LnBhcmVudEVsZW1lbnQuYXBwZW5kQ2hpbGQoY2FuY2VsKTsKICBjYW5jZWwudGV4dENvbnRlbnQgPSAnQ2FuY2VsIHVwbG9hZCc7CiAgY29uc3QgY2FuY2VsUHJvbWlzZSA9IG5ldyBQcm9taXNlKChyZXNvbHZlKSA9PiB7CiAgICBjYW5jZWwub25jbGljayA9ICgpID0+IHsKICAgICAgcmVzb2x2ZShudWxsKTsKICAgIH07CiAgfSk7CgogIC8vIENhbmNlbCB1cGxvYWQgaWYgdXNlciBoYXNuJ3QgcGlja2VkIGFueXRoaW5nIGluIHRpbWVvdXQuCiAgY29uc3QgdGltZW91dFByb21pc2UgPSBuZXcgUHJvbWlzZSgocmVzb2x2ZSkgPT4gewogICAgc2V0VGltZW91dCgoKSA9PiB7CiAgICAgIHJlc29sdmUobnVsbCk7CiAgICB9LCBGSUxFX0NIQU5HRV9USU1FT1VUX01TKTsKICB9KTsKCiAgLy8gV2FpdCBmb3IgdGhlIHVzZXIgdG8gcGljayB0aGUgZmlsZXMuCiAgY29uc3QgZmlsZXMgPSB5aWVsZCB7CiAgICBwcm9taXNlOiBQcm9taXNlLnJhY2UoW3BpY2tlZFByb21pc2UsIHRpbWVvdXRQcm9taXNlLCBjYW5jZWxQcm9taXNlXSksCiAgICByZXNwb25zZTogewogICAgICBhY3Rpb246ICdzdGFydGluZycsCiAgICB9CiAgfTsKCiAgaWYgKCFmaWxlcykgewogICAgcmV0dXJuIHsKICAgICAgcmVzcG9uc2U6IHsKICAgICAgICBhY3Rpb246ICdjb21wbGV0ZScsCiAgICAgIH0KICAgIH07CiAgfQoKICBjYW5jZWwucmVtb3ZlKCk7CgogIC8vIERpc2FibGUgdGhlIGlucHV0IGVsZW1lbnQgc2luY2UgZnVydGhlciBwaWNrcyBhcmUgbm90IGFsbG93ZWQuCiAgaW5wdXRFbGVtZW50LmRpc2FibGVkID0gdHJ1ZTsKCiAgZm9yIChjb25zdCBmaWxlIG9mIGZpbGVzKSB7CiAgICBjb25zdCBsaSA9IGRvY3VtZW50LmNyZWF0ZUVsZW1lbnQoJ2xpJyk7CiAgICBsaS5hcHBlbmQoc3BhbihmaWxlLm5hbWUsIHtmb250V2VpZ2h0OiAnYm9sZCd9KSk7CiAgICBsaS5hcHBlbmQoc3BhbigKICAgICAgICBgKCR7ZmlsZS50eXBlIHx8ICduL2EnfSkgLSAke2ZpbGUuc2l6ZX0gYnl0ZXMsIGAgKwogICAgICAgIGBsYXN0IG1vZGlmaWVkOiAkewogICAgICAgICAgICBmaWxlLmxhc3RNb2RpZmllZERhdGUgPyBmaWxlLmxhc3RNb2RpZmllZERhdGUudG9Mb2NhbGVEYXRlU3RyaW5nKCkgOgogICAgICAgICAgICAgICAgICAgICAgICAgICAgICAgICAgICAnbi9hJ30gLSBgKSk7CiAgICBjb25zdCBwZXJjZW50ID0gc3BhbignMCUgZG9uZScpOwogICAgbGkuYXBwZW5kQ2hpbGQocGVyY2VudCk7CgogICAgb3V0cHV0RWxlbWVudC5hcHBlbmRDaGlsZChsaSk7CgogICAgY29uc3QgZmlsZURhdGFQcm9taXNlID0gbmV3IFByb21pc2UoKHJlc29sdmUpID0+IHsKICAgICAgY29uc3QgcmVhZGVyID0gbmV3IEZpbGVSZWFkZXIoKTsKICAgICAgcmVhZGVyLm9ubG9hZCA9IChlKSA9PiB7CiAgICAgICAgcmVzb2x2ZShlLnRhcmdldC5yZXN1bHQpOwogICAgICB9OwogICAgICByZWFkZXIucmVhZEFzQXJyYXlCdWZmZXIoZmlsZSk7CiAgICB9KTsKICAgIC8vIFdhaXQgZm9yIHRoZSBkYXRhIHRvIGJlIHJlYWR5LgogICAgbGV0IGZpbGVEYXRhID0geWllbGQgewogICAgICBwcm9taXNlOiBmaWxlRGF0YVByb21pc2UsCiAgICAgIHJlc3BvbnNlOiB7CiAgICAgICAgYWN0aW9uOiAnY29udGludWUnLAogICAgICB9CiAgICB9OwoKICAgIC8vIFVzZSBhIGNodW5rZWQgc2VuZGluZyB0byBhdm9pZCBtZXNzYWdlIHNpemUgbGltaXRzLiBTZWUgYi82MjExNTY2MC4KICAgIGxldCBwb3NpdGlvbiA9IDA7CiAgICB3aGlsZSAocG9zaXRpb24gPCBmaWxlRGF0YS5ieXRlTGVuZ3RoKSB7CiAgICAgIGNvbnN0IGxlbmd0aCA9IE1hdGgubWluKGZpbGVEYXRhLmJ5dGVMZW5ndGggLSBwb3NpdGlvbiwgTUFYX1BBWUxPQURfU0laRSk7CiAgICAgIGNvbnN0IGNodW5rID0gbmV3IFVpbnQ4QXJyYXkoZmlsZURhdGEsIHBvc2l0aW9uLCBsZW5ndGgpOwogICAgICBwb3NpdGlvbiArPSBsZW5ndGg7CgogICAgICBjb25zdCBiYXNlNjQgPSBidG9hKFN0cmluZy5mcm9tQ2hhckNvZGUuYXBwbHkobnVsbCwgY2h1bmspKTsKICAgICAgeWllbGQgewogICAgICAgIHJlc3BvbnNlOiB7CiAgICAgICAgICBhY3Rpb246ICdhcHBlbmQnLAogICAgICAgICAgZmlsZTogZmlsZS5uYW1lLAogICAgICAgICAgZGF0YTogYmFzZTY0LAogICAgICAgIH0sCiAgICAgIH07CiAgICAgIHBlcmNlbnQudGV4dENvbnRlbnQgPQogICAgICAgICAgYCR7TWF0aC5yb3VuZCgocG9zaXRpb24gLyBmaWxlRGF0YS5ieXRlTGVuZ3RoKSAqIDEwMCl9JSBkb25lYDsKICAgIH0KICB9CgogIC8vIEFsbCBkb25lLgogIHlpZWxkIHsKICAgIHJlc3BvbnNlOiB7CiAgICAgIGFjdGlvbjogJ2NvbXBsZXRlJywKICAgIH0KICB9Owp9CgpzY29wZS5nb29nbGUgPSBzY29wZS5nb29nbGUgfHwge307CnNjb3BlLmdvb2dsZS5jb2xhYiA9IHNjb3BlLmdvb2dsZS5jb2xhYiB8fCB7fTsKc2NvcGUuZ29vZ2xlLmNvbGFiLl9maWxlcyA9IHsKICBfdXBsb2FkRmlsZXMsCiAgX3VwbG9hZEZpbGVzQ29udGludWUsCn07Cn0pKHNlbGYpOwo=",
              "ok": true,
              "headers": [
                [
                  "content-type",
                  "application/javascript"
                ]
              ],
              "status": 200,
              "status_text": ""
            }
          },
          "base_uri": "https://localhost:8080/",
          "height": 92
        }
      },
      "source": [
        "# Run this cell and select the kaggle.json file downloaded\n",
        "# from the Kaggle account settings page\n",
        "\n",
        "from google.colab import files\n",
        "files.upload()"
      ],
      "execution_count": 5,
      "outputs": [
        {
          "output_type": "display_data",
          "data": {
            "text/html": [
              "\n",
              "     <input type=\"file\" id=\"files-0a5f904d-3b52-4420-a042-7e8e908652a0\" name=\"files[]\" multiple disabled />\n",
              "     <output id=\"result-0a5f904d-3b52-4420-a042-7e8e908652a0\">\n",
              "      Upload widget is only available when the cell has been executed in the\n",
              "      current browser session. Please rerun this cell to enable.\n",
              "      </output>\n",
              "      <script src=\"/nbextensions/google.colab/files.js\"></script> "
            ],
            "text/plain": [
              "<IPython.core.display.HTML object>"
            ]
          },
          "metadata": {
            "tags": []
          }
        },
        {
          "output_type": "stream",
          "text": [
            "Saving kaggle.json to kaggle.json\n"
          ],
          "name": "stdout"
        },
        {
          "output_type": "execute_result",
          "data": {
            "text/plain": [
              "{'kaggle.json': b'{\"username\":\"robbiemoore\",\"key\":\"eb58011570ab788e49cbda0546e027c5\"}'}"
            ]
          },
          "metadata": {
            "tags": []
          },
          "execution_count": 5
        }
      ]
    },
    {
      "cell_type": "code",
      "metadata": {
        "id": "8BZx6H4FQUdm",
        "colab_type": "code",
        "outputId": "99d22bda-f5e3-4fd0-b0d7-b9cdb3cd8849",
        "colab": {
          "base_uri": "https://localhost:8080/",
          "height": 35
        }
      },
      "source": [
        "!pip install -q kaggle\n",
        "!mkdir -p ~/.kaggle\n",
        "!cp kaggle.json ~/.kaggle/\n",
        "!chmod 600 ~/.kaggle/kaggle.json\n",
        "!mkdir NCAA_data\n",
        "%cd NCAA_data\n"
      ],
      "execution_count": 6,
      "outputs": [
        {
          "output_type": "stream",
          "text": [
            "/content/NCAA_data\n"
          ],
          "name": "stdout"
        }
      ]
    },
    {
      "cell_type": "code",
      "metadata": {
        "id": "O53Tscx9QiWB",
        "colab_type": "code",
        "colab": {
          "base_uri": "https://localhost:8080/",
          "height": 1000
        },
        "outputId": "f4db3251-460c-4017-b36d-7af50d598670"
      },
      "source": [
        "!kaggle competitions download -c google-cloud-ncaa-march-madness-2020-division-1-mens-tournament"
      ],
      "execution_count": 7,
      "outputs": [
        {
          "output_type": "stream",
          "text": [
            "Warning: Looks like you're using an outdated API Version, please consider updating (server 1.5.6 / client 1.5.4)\n",
            "Downloading MNCAATourneySeedRoundSlots.csv to /content/NCAA_data\n",
            "  0% 0.00/14.4k [00:00<?, ?B/s]\n",
            "100% 14.4k/14.4k [00:00<00:00, 5.79MB/s]\n",
            "Downloading MNCAATourneySeeds.csv to /content/NCAA_data\n",
            "  0% 0.00/33.6k [00:00<?, ?B/s]\n",
            "100% 33.6k/33.6k [00:00<00:00, 34.6MB/s]\n",
            "Downloading MSecondaryTourneyTeams.csv to /content/NCAA_data\n",
            "  0% 0.00/24.1k [00:00<?, ?B/s]\n",
            "100% 24.1k/24.1k [00:00<00:00, 20.1MB/s]\n",
            "Downloading MTeamCoaches.csv to /content/NCAA_data\n",
            "  0% 0.00/331k [00:00<?, ?B/s]\n",
            "100% 331k/331k [00:00<00:00, 45.7MB/s]\n",
            "Downloading Conferences.csv to /content/NCAA_data\n",
            "  0% 0.00/1.61k [00:00<?, ?B/s]\n",
            "100% 1.61k/1.61k [00:00<00:00, 1.41MB/s]\n",
            "Downloading MTeamSpellings.csv to /content/NCAA_data\n",
            "  0% 0.00/21.6k [00:00<?, ?B/s]\n",
            "100% 21.6k/21.6k [00:00<00:00, 17.8MB/s]\n",
            "Downloading MRegularSeasonDetailedResults.csv.zip to /content/NCAA_data\n",
            "  0% 0.00/2.78M [00:00<?, ?B/s]\n",
            "100% 2.78M/2.78M [00:00<00:00, 91.0MB/s]\n",
            "Downloading MGameCities.csv.zip to /content/NCAA_data\n",
            "  0% 0.00/370k [00:00<?, ?B/s]\n",
            "100% 370k/370k [00:00<00:00, 110MB/s]\n",
            "Downloading MNCAATourneyDetailedResults.csv to /content/NCAA_data\n",
            "  0% 0.00/109k [00:00<?, ?B/s]\n",
            "100% 109k/109k [00:00<00:00, 105MB/s]\n",
            "Downloading MNCAATourneySlots.csv to /content/NCAA_data\n",
            "  0% 0.00/44.0k [00:00<?, ?B/s]\n",
            "100% 44.0k/44.0k [00:00<00:00, 42.1MB/s]\n",
            "Downloading Cities.csv to /content/NCAA_data\n",
            "  0% 0.00/8.13k [00:00<?, ?B/s]\n",
            "100% 8.13k/8.13k [00:00<00:00, 8.31MB/s]\n",
            "Downloading MSecondaryTourneyCompactResults.csv to /content/NCAA_data\n",
            "  0% 0.00/54.0k [00:00<?, ?B/s]\n",
            "100% 54.0k/54.0k [00:00<00:00, 52.2MB/s]\n",
            "Downloading MSeasons.csv to /content/NCAA_data\n",
            "  0% 0.00/1.57k [00:00<?, ?B/s]\n",
            "100% 1.57k/1.57k [00:00<00:00, 1.40MB/s]\n",
            "Downloading MMasseyOrdinals.csv.zip to /content/NCAA_data\n",
            " 34% 5.00M/14.9M [00:00<00:00, 35.8MB/s]\n",
            "100% 14.9M/14.9M [00:00<00:00, 72.5MB/s]\n",
            "Downloading MNCAATourneyCompactResults.csv to /content/NCAA_data\n",
            "  0% 0.00/66.1k [00:00<?, ?B/s]\n",
            "100% 66.1k/66.1k [00:00<00:00, 65.0MB/s]\n",
            "Downloading MTeamConferences.csv to /content/NCAA_data\n",
            "  0% 0.00/195k [00:00<?, ?B/s]\n",
            "100% 195k/195k [00:00<00:00, 59.8MB/s]\n",
            "Downloading MTeams.csv to /content/NCAA_data\n",
            "  0% 0.00/9.45k [00:00<?, ?B/s]\n",
            "100% 9.45k/9.45k [00:00<00:00, 8.08MB/s]\n",
            "Downloading MConferenceTourneyGames.csv to /content/NCAA_data\n",
            "  0% 0.00/133k [00:00<?, ?B/s]\n",
            "100% 133k/133k [00:00<00:00, 116MB/s]\n",
            "Downloading MRegularSeasonCompactResults.csv.zip to /content/NCAA_data\n",
            "  0% 0.00/1.14M [00:00<?, ?B/s]\n",
            "100% 1.14M/1.14M [00:00<00:00, 76.0MB/s]\n",
            "Downloading MEvents2019.csv.zip to /content/NCAA_data\n",
            " 22% 5.00M/22.7M [00:00<00:00, 28.7MB/s]\n",
            "100% 22.7M/22.7M [00:00<00:00, 75.8MB/s]\n",
            "Downloading MSampleSubmissionStage1_2020.csv to /content/NCAA_data\n",
            "  0% 0.00/222k [00:00<?, ?B/s]\n",
            "100% 222k/222k [00:00<00:00, 69.4MB/s]\n",
            "Downloading MEvents2016.csv.zip to /content/NCAA_data\n",
            " 61% 12.0M/19.7M [00:00<00:00, 125MB/s]\n",
            "100% 19.7M/19.7M [00:00<00:00, 126MB/s]\n",
            "Downloading MEvents2018.csv.zip to /content/NCAA_data\n",
            " 46% 9.00M/19.4M [00:00<00:00, 86.5MB/s]\n",
            "100% 19.4M/19.4M [00:00<00:00, 93.5MB/s]\n",
            "Downloading MEvents2015.csv.zip to /content/NCAA_data\n",
            " 89% 17.0M/19.1M [00:00<00:00, 37.9MB/s]\n",
            "100% 19.1M/19.1M [00:00<00:00, 62.9MB/s]\n",
            "Downloading MPlayers.csv to /content/NCAA_data\n",
            "  0% 0.00/329k [00:00<?, ?B/s]\n",
            "100% 329k/329k [00:00<00:00, 103MB/s]\n",
            "Downloading MEvents2017.csv.zip to /content/NCAA_data\n",
            " 51% 10.0M/19.7M [00:00<00:00, 37.2MB/s]\n",
            "100% 19.7M/19.7M [00:00<00:00, 56.5MB/s]\n"
          ],
          "name": "stdout"
        }
      ]
    },
    {
      "cell_type": "markdown",
      "metadata": {
        "id": "HrapYWAK11qV",
        "colab_type": "text"
      },
      "source": [
        "## Loading the data\n",
        "\n",
        "Let's load all useful data into a single dictionary!"
      ]
    },
    {
      "cell_type": "code",
      "metadata": {
        "_uuid": "d629ff2d2480ee46fbb7e2d37f6b5fab8052498a",
        "_cell_guid": "79c7e3d0-c299-4dcb-8224-4455121ee9b0",
        "trusted": true,
        "id": "fVoGprI211qX",
        "colab_type": "code",
        "colab": {}
      },
      "source": [
        "data_dict = {}\n",
        "for i in glob.glob('/content/NCAA_data/*'):\n",
        "    name = i.split('/')[-1].split('.')[0]\n",
        "    if name != 'MTeamSpellings':\n",
        "        data_dict[name] = pd.read_csv(i)\n",
        "    else:\n",
        "        data_dict[name] = pd.read_csv(i, encoding='cp1252')"
      ],
      "execution_count": 0,
      "outputs": []
    },
    {
      "cell_type": "markdown",
      "metadata": {
        "id": "hFUqI0sJ11qb",
        "colab_type": "text"
      },
      "source": [
        "## Data overview"
      ]
    },
    {
      "cell_type": "code",
      "metadata": {
        "trusted": true,
        "id": "adKxkFMS11qc",
        "colab_type": "code",
        "outputId": "6b9c4d12-ae5b-44bc-fc27-51bcc7cf94b3",
        "colab": {
          "base_uri": "https://localhost:8080/",
          "height": 55
        }
      },
      "source": [
        "data_dict.keys()"
      ],
      "execution_count": 9,
      "outputs": [
        {
          "output_type": "execute_result",
          "data": {
            "text/plain": [
              "dict_keys(['MSecondaryTourneyTeams', 'Cities', 'MRegularSeasonDetailedResults', 'MConferenceTourneyGames', 'MNCAATourneySeedRoundSlots', 'MRegularSeasonCompactResults', 'MNCAATourneyDetailedResults', 'MSeasons', 'MMasseyOrdinals', 'MSampleSubmissionStage1_2020', 'Conferences', 'MTeamConferences', 'MTeamCoaches', 'MEvents2018', 'MNCAATourneySeeds', 'MTeamSpellings', 'MNCAATourneyCompactResults', 'MEvents2017', 'MEvents2019', 'MPlayers', 'MEvents2016', 'MGameCities', 'MEvents2015', 'MNCAATourneySlots', 'MSecondaryTourneyCompactResults', 'MTeams'])"
            ]
          },
          "metadata": {
            "tags": []
          },
          "execution_count": 9
        }
      ]
    },
    {
      "cell_type": "markdown",
      "metadata": {
        "id": "SYlGcPFD11qh",
        "colab_type": "text"
      },
      "source": [
        "We have a lot of data, but I'll use only some of it in my baseline."
      ]
    },
    {
      "cell_type": "code",
      "metadata": {
        "trusted": true,
        "id": "a75Spoz711qi",
        "colab_type": "code",
        "outputId": "bdf1d187-62b3-4ceb-d695-80b1283ede0c",
        "colab": {
          "base_uri": "https://localhost:8080/",
          "height": 194
        }
      },
      "source": [
        "data_dict['MNCAATourneySeeds'].head()"
      ],
      "execution_count": 10,
      "outputs": [
        {
          "output_type": "execute_result",
          "data": {
            "text/html": [
              "<div>\n",
              "<style scoped>\n",
              "    .dataframe tbody tr th:only-of-type {\n",
              "        vertical-align: middle;\n",
              "    }\n",
              "\n",
              "    .dataframe tbody tr th {\n",
              "        vertical-align: top;\n",
              "    }\n",
              "\n",
              "    .dataframe thead th {\n",
              "        text-align: right;\n",
              "    }\n",
              "</style>\n",
              "<table border=\"1\" class=\"dataframe\">\n",
              "  <thead>\n",
              "    <tr style=\"text-align: right;\">\n",
              "      <th></th>\n",
              "      <th>Season</th>\n",
              "      <th>Seed</th>\n",
              "      <th>TeamID</th>\n",
              "    </tr>\n",
              "  </thead>\n",
              "  <tbody>\n",
              "    <tr>\n",
              "      <th>0</th>\n",
              "      <td>1985</td>\n",
              "      <td>W01</td>\n",
              "      <td>1207</td>\n",
              "    </tr>\n",
              "    <tr>\n",
              "      <th>1</th>\n",
              "      <td>1985</td>\n",
              "      <td>W02</td>\n",
              "      <td>1210</td>\n",
              "    </tr>\n",
              "    <tr>\n",
              "      <th>2</th>\n",
              "      <td>1985</td>\n",
              "      <td>W03</td>\n",
              "      <td>1228</td>\n",
              "    </tr>\n",
              "    <tr>\n",
              "      <th>3</th>\n",
              "      <td>1985</td>\n",
              "      <td>W04</td>\n",
              "      <td>1260</td>\n",
              "    </tr>\n",
              "    <tr>\n",
              "      <th>4</th>\n",
              "      <td>1985</td>\n",
              "      <td>W05</td>\n",
              "      <td>1374</td>\n",
              "    </tr>\n",
              "  </tbody>\n",
              "</table>\n",
              "</div>"
            ],
            "text/plain": [
              "   Season Seed  TeamID\n",
              "0    1985  W01    1207\n",
              "1    1985  W02    1210\n",
              "2    1985  W03    1228\n",
              "3    1985  W04    1260\n",
              "4    1985  W05    1374"
            ]
          },
          "metadata": {
            "tags": []
          },
          "execution_count": 10
        }
      ]
    },
    {
      "cell_type": "markdown",
      "metadata": {
        "id": "pP2QfyUG11qn",
        "colab_type": "text"
      },
      "source": [
        "Here we can see seeds of all the teams in all seasons."
      ]
    },
    {
      "cell_type": "code",
      "metadata": {
        "trusted": true,
        "id": "C3MaaATW11qp",
        "colab_type": "code",
        "outputId": "bc7d5d7c-fc90-4484-8277-bb63e523195d",
        "colab": {
          "base_uri": "https://localhost:8080/",
          "height": 194
        }
      },
      "source": [
        "data_dict['MNCAATourneyCompactResults'].head()"
      ],
      "execution_count": 11,
      "outputs": [
        {
          "output_type": "execute_result",
          "data": {
            "text/html": [
              "<div>\n",
              "<style scoped>\n",
              "    .dataframe tbody tr th:only-of-type {\n",
              "        vertical-align: middle;\n",
              "    }\n",
              "\n",
              "    .dataframe tbody tr th {\n",
              "        vertical-align: top;\n",
              "    }\n",
              "\n",
              "    .dataframe thead th {\n",
              "        text-align: right;\n",
              "    }\n",
              "</style>\n",
              "<table border=\"1\" class=\"dataframe\">\n",
              "  <thead>\n",
              "    <tr style=\"text-align: right;\">\n",
              "      <th></th>\n",
              "      <th>Season</th>\n",
              "      <th>DayNum</th>\n",
              "      <th>WTeamID</th>\n",
              "      <th>WScore</th>\n",
              "      <th>LTeamID</th>\n",
              "      <th>LScore</th>\n",
              "      <th>WLoc</th>\n",
              "      <th>NumOT</th>\n",
              "    </tr>\n",
              "  </thead>\n",
              "  <tbody>\n",
              "    <tr>\n",
              "      <th>0</th>\n",
              "      <td>1985</td>\n",
              "      <td>136</td>\n",
              "      <td>1116</td>\n",
              "      <td>63</td>\n",
              "      <td>1234</td>\n",
              "      <td>54</td>\n",
              "      <td>N</td>\n",
              "      <td>0</td>\n",
              "    </tr>\n",
              "    <tr>\n",
              "      <th>1</th>\n",
              "      <td>1985</td>\n",
              "      <td>136</td>\n",
              "      <td>1120</td>\n",
              "      <td>59</td>\n",
              "      <td>1345</td>\n",
              "      <td>58</td>\n",
              "      <td>N</td>\n",
              "      <td>0</td>\n",
              "    </tr>\n",
              "    <tr>\n",
              "      <th>2</th>\n",
              "      <td>1985</td>\n",
              "      <td>136</td>\n",
              "      <td>1207</td>\n",
              "      <td>68</td>\n",
              "      <td>1250</td>\n",
              "      <td>43</td>\n",
              "      <td>N</td>\n",
              "      <td>0</td>\n",
              "    </tr>\n",
              "    <tr>\n",
              "      <th>3</th>\n",
              "      <td>1985</td>\n",
              "      <td>136</td>\n",
              "      <td>1229</td>\n",
              "      <td>58</td>\n",
              "      <td>1425</td>\n",
              "      <td>55</td>\n",
              "      <td>N</td>\n",
              "      <td>0</td>\n",
              "    </tr>\n",
              "    <tr>\n",
              "      <th>4</th>\n",
              "      <td>1985</td>\n",
              "      <td>136</td>\n",
              "      <td>1242</td>\n",
              "      <td>49</td>\n",
              "      <td>1325</td>\n",
              "      <td>38</td>\n",
              "      <td>N</td>\n",
              "      <td>0</td>\n",
              "    </tr>\n",
              "  </tbody>\n",
              "</table>\n",
              "</div>"
            ],
            "text/plain": [
              "   Season  DayNum  WTeamID  WScore  LTeamID  LScore WLoc  NumOT\n",
              "0    1985     136     1116      63     1234      54    N      0\n",
              "1    1985     136     1120      59     1345      58    N      0\n",
              "2    1985     136     1207      68     1250      43    N      0\n",
              "3    1985     136     1229      58     1425      55    N      0\n",
              "4    1985     136     1242      49     1325      38    N      0"
            ]
          },
          "metadata": {
            "tags": []
          },
          "execution_count": 11
        }
      ]
    },
    {
      "cell_type": "markdown",
      "metadata": {
        "id": "QVxSZ2wC11qs",
        "colab_type": "text"
      },
      "source": [
        "Here we can see pairs of teams which played in tournaments."
      ]
    },
    {
      "cell_type": "code",
      "metadata": {
        "trusted": true,
        "id": "wlltFqog11qt",
        "colab_type": "code",
        "outputId": "135e4440-1ba0-447b-b6e2-607f04fdacc8",
        "colab": {
          "base_uri": "https://localhost:8080/",
          "height": 294
        }
      },
      "source": [
        "data_dict['MNCAATourneyCompactResults'].groupby(['Season'])['WScore'].mean().plot(kind='line');\n",
        "plt.title('Mean scores of winning teams by season in tourneys');"
      ],
      "execution_count": 12,
      "outputs": [
        {
          "output_type": "display_data",
          "data": {
            "image/png": "[encoded data removed]",
            "text/plain": [
              "<Figure size 432x288 with 1 Axes>"
            ]
          },
          "metadata": {
            "tags": []
          }
        }
      ]
    },
    {
      "cell_type": "markdown",
      "metadata": {
        "id": "gb-iUBdL11qx",
        "colab_type": "text"
      },
      "source": [
        "We can see that mean scores peaked in ~1900 and steadily decreased since that time, but in recent years mean scores rise again. Sadly, I don't know enough info about history of matches in NCAA, but maybe teams prefer to pay more attention to defence now?"
      ]
    },
    {
      "cell_type": "code",
      "metadata": {
        "trusted": true,
        "id": "pI6ahWd811qy",
        "colab_type": "code",
        "outputId": "dbeba07c-0324-45ac-e2dc-5a9502826bba",
        "colab": {
          "base_uri": "https://localhost:8080/",
          "height": 419
        }
      },
      "source": [
        "data_dict['MRegularSeasonDetailedResults']"
      ],
      "execution_count": 16,
      "outputs": [
        {
          "output_type": "execute_result",
          "data": {
            "text/html": [
              "<div>\n",
              "<style scoped>\n",
              "    .dataframe tbody tr th:only-of-type {\n",
              "        vertical-align: middle;\n",
              "    }\n",
              "\n",
              "    .dataframe tbody tr th {\n",
              "        vertical-align: top;\n",
              "    }\n",
              "\n",
              "    .dataframe thead th {\n",
              "        text-align: right;\n",
              "    }\n",
              "</style>\n",
              "<table border=\"1\" class=\"dataframe\">\n",
              "  <thead>\n",
              "    <tr style=\"text-align: right;\">\n",
              "      <th></th>\n",
              "      <th>Season</th>\n",
              "      <th>DayNum</th>\n",
              "      <th>WTeamID</th>\n",
              "      <th>WScore</th>\n",
              "      <th>LTeamID</th>\n",
              "      <th>LScore</th>\n",
              "      <th>WLoc</th>\n",
              "      <th>NumOT</th>\n",
              "      <th>WFGM</th>\n",
              "      <th>WFGA</th>\n",
              "      <th>WFGM3</th>\n",
              "      <th>WFGA3</th>\n",
              "      <th>WFTM</th>\n",
              "      <th>WFTA</th>\n",
              "      <th>WOR</th>\n",
              "      <th>WDR</th>\n",
              "      <th>WAst</th>\n",
              "      <th>WTO</th>\n",
              "      <th>WStl</th>\n",
              "      <th>WBlk</th>\n",
              "      <th>WPF</th>\n",
              "      <th>LFGM</th>\n",
              "      <th>LFGA</th>\n",
              "      <th>LFGM3</th>\n",
              "      <th>LFGA3</th>\n",
              "      <th>LFTM</th>\n",
              "      <th>LFTA</th>\n",
              "      <th>LOR</th>\n",
              "      <th>LDR</th>\n",
              "      <th>LAst</th>\n",
              "      <th>LTO</th>\n",
              "      <th>LStl</th>\n",
              "      <th>LBlk</th>\n",
              "      <th>LPF</th>\n",
              "    </tr>\n",
              "  </thead>\n",
              "  <tbody>\n",
              "    <tr>\n",
              "      <th>0</th>\n",
              "      <td>2003</td>\n",
              "      <td>10</td>\n",
              "      <td>1104</td>\n",
              "      <td>68</td>\n",
              "      <td>1328</td>\n",
              "      <td>62</td>\n",
              "      <td>N</td>\n",
              "      <td>0</td>\n",
              "      <td>27</td>\n",
              "      <td>58</td>\n",
              "      <td>3</td>\n",
              "      <td>14</td>\n",
              "      <td>11</td>\n",
              "      <td>18</td>\n",
              "      <td>14</td>\n",
              "      <td>24</td>\n",
              "      <td>13</td>\n",
              "      <td>23</td>\n",
              "      <td>7</td>\n",
              "      <td>1</td>\n",
              "      <td>22</td>\n",
              "      <td>22</td>\n",
              "      <td>53</td>\n",
              "      <td>2</td>\n",
              "      <td>10</td>\n",
              "      <td>16</td>\n",
              "      <td>22</td>\n",
              "      <td>10</td>\n",
              "      <td>22</td>\n",
              "      <td>8</td>\n",
              "      <td>18</td>\n",
              "      <td>9</td>\n",
              "      <td>2</td>\n",
              "      <td>20</td>\n",
              "    </tr>\n",
              "    <tr>\n",
              "      <th>1</th>\n",
              "      <td>2003</td>\n",
              "      <td>10</td>\n",
              "      <td>1272</td>\n",
              "      <td>70</td>\n",
              "      <td>1393</td>\n",
              "      <td>63</td>\n",
              "      <td>N</td>\n",
              "      <td>0</td>\n",
              "      <td>26</td>\n",
              "      <td>62</td>\n",
              "      <td>8</td>\n",
              "      <td>20</td>\n",
              "      <td>10</td>\n",
              "      <td>19</td>\n",
              "      <td>15</td>\n",
              "      <td>28</td>\n",
              "      <td>16</td>\n",
              "      <td>13</td>\n",
              "      <td>4</td>\n",
              "      <td>4</td>\n",
              "      <td>18</td>\n",
              "      <td>24</td>\n",
              "      <td>67</td>\n",
              "      <td>6</td>\n",
              "      <td>24</td>\n",
              "      <td>9</td>\n",
              "      <td>20</td>\n",
              "      <td>20</td>\n",
              "      <td>25</td>\n",
              "      <td>7</td>\n",
              "      <td>12</td>\n",
              "      <td>8</td>\n",
              "      <td>6</td>\n",
              "      <td>16</td>\n",
              "    </tr>\n",
              "    <tr>\n",
              "      <th>2</th>\n",
              "      <td>2003</td>\n",
              "      <td>11</td>\n",
              "      <td>1266</td>\n",
              "      <td>73</td>\n",
              "      <td>1437</td>\n",
              "      <td>61</td>\n",
              "      <td>N</td>\n",
              "      <td>0</td>\n",
              "      <td>24</td>\n",
              "      <td>58</td>\n",
              "      <td>8</td>\n",
              "      <td>18</td>\n",
              "      <td>17</td>\n",
              "      <td>29</td>\n",
              "      <td>17</td>\n",
              "      <td>26</td>\n",
              "      <td>15</td>\n",
              "      <td>10</td>\n",
              "      <td>5</td>\n",
              "      <td>2</td>\n",
              "      <td>25</td>\n",
              "      <td>22</td>\n",
              "      <td>73</td>\n",
              "      <td>3</td>\n",
              "      <td>26</td>\n",
              "      <td>14</td>\n",
              "      <td>23</td>\n",
              "      <td>31</td>\n",
              "      <td>22</td>\n",
              "      <td>9</td>\n",
              "      <td>12</td>\n",
              "      <td>2</td>\n",
              "      <td>5</td>\n",
              "      <td>23</td>\n",
              "    </tr>\n",
              "    <tr>\n",
              "      <th>3</th>\n",
              "      <td>2003</td>\n",
              "      <td>11</td>\n",
              "      <td>1296</td>\n",
              "      <td>56</td>\n",
              "      <td>1457</td>\n",
              "      <td>50</td>\n",
              "      <td>N</td>\n",
              "      <td>0</td>\n",
              "      <td>18</td>\n",
              "      <td>38</td>\n",
              "      <td>3</td>\n",
              "      <td>9</td>\n",
              "      <td>17</td>\n",
              "      <td>31</td>\n",
              "      <td>6</td>\n",
              "      <td>19</td>\n",
              "      <td>11</td>\n",
              "      <td>12</td>\n",
              "      <td>14</td>\n",
              "      <td>2</td>\n",
              "      <td>18</td>\n",
              "      <td>18</td>\n",
              "      <td>49</td>\n",
              "      <td>6</td>\n",
              "      <td>22</td>\n",
              "      <td>8</td>\n",
              "      <td>15</td>\n",
              "      <td>17</td>\n",
              "      <td>20</td>\n",
              "      <td>9</td>\n",
              "      <td>19</td>\n",
              "      <td>4</td>\n",
              "      <td>3</td>\n",
              "      <td>23</td>\n",
              "    </tr>\n",
              "    <tr>\n",
              "      <th>4</th>\n",
              "      <td>2003</td>\n",
              "      <td>11</td>\n",
              "      <td>1400</td>\n",
              "      <td>77</td>\n",
              "      <td>1208</td>\n",
              "      <td>71</td>\n",
              "      <td>N</td>\n",
              "      <td>0</td>\n",
              "      <td>30</td>\n",
              "      <td>61</td>\n",
              "      <td>6</td>\n",
              "      <td>14</td>\n",
              "      <td>11</td>\n",
              "      <td>13</td>\n",
              "      <td>17</td>\n",
              "      <td>22</td>\n",
              "      <td>12</td>\n",
              "      <td>14</td>\n",
              "      <td>4</td>\n",
              "      <td>4</td>\n",
              "      <td>20</td>\n",
              "      <td>24</td>\n",
              "      <td>62</td>\n",
              "      <td>6</td>\n",
              "      <td>16</td>\n",
              "      <td>17</td>\n",
              "      <td>27</td>\n",
              "      <td>21</td>\n",
              "      <td>15</td>\n",
              "      <td>12</td>\n",
              "      <td>10</td>\n",
              "      <td>7</td>\n",
              "      <td>1</td>\n",
              "      <td>14</td>\n",
              "    </tr>\n",
              "    <tr>\n",
              "      <th>...</th>\n",
              "      <td>...</td>\n",
              "      <td>...</td>\n",
              "      <td>...</td>\n",
              "      <td>...</td>\n",
              "      <td>...</td>\n",
              "      <td>...</td>\n",
              "      <td>...</td>\n",
              "      <td>...</td>\n",
              "      <td>...</td>\n",
              "      <td>...</td>\n",
              "      <td>...</td>\n",
              "      <td>...</td>\n",
              "      <td>...</td>\n",
              "      <td>...</td>\n",
              "      <td>...</td>\n",
              "      <td>...</td>\n",
              "      <td>...</td>\n",
              "      <td>...</td>\n",
              "      <td>...</td>\n",
              "      <td>...</td>\n",
              "      <td>...</td>\n",
              "      <td>...</td>\n",
              "      <td>...</td>\n",
              "      <td>...</td>\n",
              "      <td>...</td>\n",
              "      <td>...</td>\n",
              "      <td>...</td>\n",
              "      <td>...</td>\n",
              "      <td>...</td>\n",
              "      <td>...</td>\n",
              "      <td>...</td>\n",
              "      <td>...</td>\n",
              "      <td>...</td>\n",
              "      <td>...</td>\n",
              "    </tr>\n",
              "    <tr>\n",
              "      <th>87499</th>\n",
              "      <td>2019</td>\n",
              "      <td>132</td>\n",
              "      <td>1153</td>\n",
              "      <td>69</td>\n",
              "      <td>1222</td>\n",
              "      <td>57</td>\n",
              "      <td>N</td>\n",
              "      <td>0</td>\n",
              "      <td>22</td>\n",
              "      <td>50</td>\n",
              "      <td>6</td>\n",
              "      <td>17</td>\n",
              "      <td>19</td>\n",
              "      <td>25</td>\n",
              "      <td>12</td>\n",
              "      <td>27</td>\n",
              "      <td>6</td>\n",
              "      <td>11</td>\n",
              "      <td>2</td>\n",
              "      <td>3</td>\n",
              "      <td>16</td>\n",
              "      <td>19</td>\n",
              "      <td>62</td>\n",
              "      <td>8</td>\n",
              "      <td>33</td>\n",
              "      <td>11</td>\n",
              "      <td>18</td>\n",
              "      <td>17</td>\n",
              "      <td>16</td>\n",
              "      <td>8</td>\n",
              "      <td>7</td>\n",
              "      <td>2</td>\n",
              "      <td>4</td>\n",
              "      <td>19</td>\n",
              "    </tr>\n",
              "    <tr>\n",
              "      <th>87500</th>\n",
              "      <td>2019</td>\n",
              "      <td>132</td>\n",
              "      <td>1209</td>\n",
              "      <td>73</td>\n",
              "      <td>1426</td>\n",
              "      <td>64</td>\n",
              "      <td>N</td>\n",
              "      <td>0</td>\n",
              "      <td>20</td>\n",
              "      <td>50</td>\n",
              "      <td>8</td>\n",
              "      <td>22</td>\n",
              "      <td>25</td>\n",
              "      <td>34</td>\n",
              "      <td>5</td>\n",
              "      <td>31</td>\n",
              "      <td>8</td>\n",
              "      <td>10</td>\n",
              "      <td>4</td>\n",
              "      <td>5</td>\n",
              "      <td>18</td>\n",
              "      <td>23</td>\n",
              "      <td>64</td>\n",
              "      <td>7</td>\n",
              "      <td>33</td>\n",
              "      <td>11</td>\n",
              "      <td>17</td>\n",
              "      <td>13</td>\n",
              "      <td>28</td>\n",
              "      <td>12</td>\n",
              "      <td>14</td>\n",
              "      <td>5</td>\n",
              "      <td>2</td>\n",
              "      <td>24</td>\n",
              "    </tr>\n",
              "    <tr>\n",
              "      <th>87501</th>\n",
              "      <td>2019</td>\n",
              "      <td>132</td>\n",
              "      <td>1277</td>\n",
              "      <td>65</td>\n",
              "      <td>1276</td>\n",
              "      <td>60</td>\n",
              "      <td>N</td>\n",
              "      <td>0</td>\n",
              "      <td>22</td>\n",
              "      <td>55</td>\n",
              "      <td>9</td>\n",
              "      <td>23</td>\n",
              "      <td>12</td>\n",
              "      <td>16</td>\n",
              "      <td>11</td>\n",
              "      <td>27</td>\n",
              "      <td>14</td>\n",
              "      <td>9</td>\n",
              "      <td>2</td>\n",
              "      <td>6</td>\n",
              "      <td>10</td>\n",
              "      <td>21</td>\n",
              "      <td>51</td>\n",
              "      <td>8</td>\n",
              "      <td>25</td>\n",
              "      <td>10</td>\n",
              "      <td>12</td>\n",
              "      <td>3</td>\n",
              "      <td>26</td>\n",
              "      <td>17</td>\n",
              "      <td>6</td>\n",
              "      <td>5</td>\n",
              "      <td>5</td>\n",
              "      <td>11</td>\n",
              "    </tr>\n",
              "    <tr>\n",
              "      <th>87502</th>\n",
              "      <td>2019</td>\n",
              "      <td>132</td>\n",
              "      <td>1387</td>\n",
              "      <td>55</td>\n",
              "      <td>1382</td>\n",
              "      <td>53</td>\n",
              "      <td>N</td>\n",
              "      <td>0</td>\n",
              "      <td>22</td>\n",
              "      <td>59</td>\n",
              "      <td>4</td>\n",
              "      <td>22</td>\n",
              "      <td>7</td>\n",
              "      <td>15</td>\n",
              "      <td>15</td>\n",
              "      <td>25</td>\n",
              "      <td>13</td>\n",
              "      <td>6</td>\n",
              "      <td>6</td>\n",
              "      <td>8</td>\n",
              "      <td>11</td>\n",
              "      <td>19</td>\n",
              "      <td>56</td>\n",
              "      <td>7</td>\n",
              "      <td>19</td>\n",
              "      <td>8</td>\n",
              "      <td>10</td>\n",
              "      <td>13</td>\n",
              "      <td>30</td>\n",
              "      <td>9</td>\n",
              "      <td>11</td>\n",
              "      <td>2</td>\n",
              "      <td>7</td>\n",
              "      <td>16</td>\n",
              "    </tr>\n",
              "    <tr>\n",
              "      <th>87503</th>\n",
              "      <td>2019</td>\n",
              "      <td>132</td>\n",
              "      <td>1463</td>\n",
              "      <td>97</td>\n",
              "      <td>1217</td>\n",
              "      <td>85</td>\n",
              "      <td>H</td>\n",
              "      <td>0</td>\n",
              "      <td>32</td>\n",
              "      <td>53</td>\n",
              "      <td>5</td>\n",
              "      <td>11</td>\n",
              "      <td>28</td>\n",
              "      <td>30</td>\n",
              "      <td>6</td>\n",
              "      <td>23</td>\n",
              "      <td>11</td>\n",
              "      <td>7</td>\n",
              "      <td>4</td>\n",
              "      <td>5</td>\n",
              "      <td>18</td>\n",
              "      <td>28</td>\n",
              "      <td>62</td>\n",
              "      <td>10</td>\n",
              "      <td>32</td>\n",
              "      <td>19</td>\n",
              "      <td>24</td>\n",
              "      <td>12</td>\n",
              "      <td>15</td>\n",
              "      <td>7</td>\n",
              "      <td>9</td>\n",
              "      <td>1</td>\n",
              "      <td>2</td>\n",
              "      <td>22</td>\n",
              "    </tr>\n",
              "  </tbody>\n",
              "</table>\n",
              "<p>87504 rows × 34 columns</p>\n",
              "</div>"
            ],
            "text/plain": [
              "       Season  DayNum  WTeamID  WScore  LTeamID  LScore WLoc  NumOT  WFGM  \\\n",
              "0        2003      10     1104      68     1328      62    N      0    27   \n",
              "1        2003      10     1272      70     1393      63    N      0    26   \n",
              "2        2003      11     1266      73     1437      61    N      0    24   \n",
              "3        2003      11     1296      56     1457      50    N      0    18   \n",
              "4        2003      11     1400      77     1208      71    N      0    30   \n",
              "...       ...     ...      ...     ...      ...     ...  ...    ...   ...   \n",
              "87499    2019     132     1153      69     1222      57    N      0    22   \n",
              "87500    2019     132     1209      73     1426      64    N      0    20   \n",
              "87501    2019     132     1277      65     1276      60    N      0    22   \n",
              "87502    2019     132     1387      55     1382      53    N      0    22   \n",
              "87503    2019     132     1463      97     1217      85    H      0    32   \n",
              "\n",
              "       WFGA  WFGM3  WFGA3  WFTM  WFTA  WOR  WDR  WAst  WTO  WStl  WBlk  WPF  \\\n",
              "0        58      3     14    11    18   14   24    13   23     7     1   22   \n",
              "1        62      8     20    10    19   15   28    16   13     4     4   18   \n",
              "2        58      8     18    17    29   17   26    15   10     5     2   25   \n",
              "3        38      3      9    17    31    6   19    11   12    14     2   18   \n",
              "4        61      6     14    11    13   17   22    12   14     4     4   20   \n",
              "...     ...    ...    ...   ...   ...  ...  ...   ...  ...   ...   ...  ...   \n",
              "87499    50      6     17    19    25   12   27     6   11     2     3   16   \n",
              "87500    50      8     22    25    34    5   31     8   10     4     5   18   \n",
              "87501    55      9     23    12    16   11   27    14    9     2     6   10   \n",
              "87502    59      4     22     7    15   15   25    13    6     6     8   11   \n",
              "87503    53      5     11    28    30    6   23    11    7     4     5   18   \n",
              "\n",
              "       LFGM  LFGA  LFGM3  LFGA3  LFTM  LFTA  LOR  LDR  LAst  LTO  LStl  LBlk  \\\n",
              "0        22    53      2     10    16    22   10   22     8   18     9     2   \n",
              "1        24    67      6     24     9    20   20   25     7   12     8     6   \n",
              "2        22    73      3     26    14    23   31   22     9   12     2     5   \n",
              "3        18    49      6     22     8    15   17   20     9   19     4     3   \n",
              "4        24    62      6     16    17    27   21   15    12   10     7     1   \n",
              "...     ...   ...    ...    ...   ...   ...  ...  ...   ...  ...   ...   ...   \n",
              "87499    19    62      8     33    11    18   17   16     8    7     2     4   \n",
              "87500    23    64      7     33    11    17   13   28    12   14     5     2   \n",
              "87501    21    51      8     25    10    12    3   26    17    6     5     5   \n",
              "87502    19    56      7     19     8    10   13   30     9   11     2     7   \n",
              "87503    28    62     10     32    19    24   12   15     7    9     1     2   \n",
              "\n",
              "       LPF  \n",
              "0       20  \n",
              "1       16  \n",
              "2       23  \n",
              "3       23  \n",
              "4       14  \n",
              "...    ...  \n",
              "87499   19  \n",
              "87500   24  \n",
              "87501   11  \n",
              "87502   16  \n",
              "87503   22  \n",
              "\n",
              "[87504 rows x 34 columns]"
            ]
          },
          "metadata": {
            "tags": []
          },
          "execution_count": 16
        }
      ]
    },
    {
      "cell_type": "markdown",
      "metadata": {
        "id": "y5Z12jfN11q3",
        "colab_type": "text"
      },
      "source": [
        "And here we can see the results of regular seasons."
      ]
    },
    {
      "cell_type": "code",
      "metadata": {
        "id": "MazpMwuvH5B9",
        "colab_type": "code",
        "colab": {}
      },
      "source": [
        "import umap\n",
        "import scprep"
      ],
      "execution_count": 0,
      "outputs": []
    },
    {
      "cell_type": "code",
      "metadata": {
        "id": "NwRV56VzH5S9",
        "colab_type": "code",
        "colab": {}
      },
      "source": [
        "mapper = umap.UMAP()"
      ],
      "execution_count": 0,
      "outputs": []
    },
    {
      "cell_type": "code",
      "metadata": {
        "id": "igxGECHTH5ev",
        "colab_type": "code",
        "colab": {}
      },
      "source": [
        "data_umap = mapper.fit_transform(data_dict['MRegularSeasonCompactResults'].drop(['WLoc'], axis=1))"
      ],
      "execution_count": 0,
      "outputs": []
    },
    {
      "cell_type": "code",
      "metadata": {
        "id": "mCHg_Ms8LvQ6",
        "colab_type": "code",
        "colab": {
          "base_uri": "https://localhost:8080/",
          "height": 747
        },
        "outputId": "3695f038-5a04-4b0a-fd60-c040fc298d6b"
      },
      "source": [
        "scprep.plot.scatter2d(data_umap, figsize=(14,10))"
      ],
      "execution_count": 37,
      "outputs": [
        {
          "output_type": "execute_result",
          "data": {
            "text/plain": [
              "<matplotlib.axes._subplots.AxesSubplot at 0x7f095c3c59e8>"
            ]
          },
          "metadata": {
            "tags": []
          },
          "execution_count": 37
        },
        {
          "output_type": "display_data",
          "data": {
            "image/png": "[encoded data removed]",
            "text/plain": [
              "<Figure size 1008x720 with 1 Axes>"
            ]
          },
          "metadata": {
            "tags": []
          }
        }
      ]
    },
    {
      "cell_type": "code",
      "metadata": {
        "trusted": true,
        "id": "zowIcQ-011q5",
        "colab_type": "code",
        "outputId": "9b293fa6-41ae-4baf-9715-22db4f82402b",
        "colab": {
          "base_uri": "https://localhost:8080/",
          "height": 294
        }
      },
      "source": [
        "data_dict['MRegularSeasonCompactResults'].groupby(['Season'])['WScore'].mean().plot();\n",
        "plt.title('Mean scores of winning teams by season in regular plays');"
      ],
      "execution_count": 14,
      "outputs": [
        {
          "output_type": "display_data",
          "data": {
            "image/png": "[encoded data removed]",
            "text/plain": [
              "<Figure size 432x288 with 1 Axes>"
            ]
          },
          "metadata": {
            "tags": []
          }
        }
      ]
    },
    {
      "cell_type": "markdown",
      "metadata": {
        "id": "vFZkpJ7e11q8",
        "colab_type": "text"
      },
      "source": [
        "## Data processing and feature engineering.\n",
        "\n",
        "The main idea is to extract features, which could be useful to understand how much one team is better than another one."
      ]
    },
    {
      "cell_type": "code",
      "metadata": {
        "trusted": true,
        "id": "KLq3wuqU11q9",
        "colab_type": "code",
        "outputId": "0ef0c785-3bf3-4385-ade5-26f0f84f1e80",
        "colab": {
          "base_uri": "https://localhost:8080/",
          "height": 194
        }
      },
      "source": [
        "# process seed\n",
        "data_dict['MNCAATourneySeeds']['Seed'] = data_dict['MNCAATourneySeeds']['Seed'].apply(lambda x: int(x[1:3]))\n",
        "# take only useful columns\n",
        "data_dict['MNCAATourneySeeds'] = data_dict['MNCAATourneySeeds'][['Season', 'TeamID', 'Seed']]\n",
        "data_dict['MNCAATourneyCompactResults'] = data_dict['MNCAATourneyCompactResults'][['Season','WTeamID', 'LTeamID']]\n",
        "\n",
        "# merge the data and rename the columns\n",
        "df = pd.merge(data_dict['MNCAATourneyCompactResults'], data_dict['MNCAATourneySeeds'],\n",
        "              how='left', left_on=['Season', 'WTeamID'], right_on=['Season', 'TeamID'])\n",
        "df = pd.merge(df, data_dict['MNCAATourneySeeds'], how='left', left_on=['Season', 'LTeamID'], right_on=['Season', 'TeamID'])\n",
        "df = df.drop(['TeamID_x', 'TeamID_y'], axis=1)\n",
        "df.columns = ['Season', 'WTeamID', 'LTeamID', 'WSeed', 'LSeed']\n",
        "df.head()"
      ],
      "execution_count": 15,
      "outputs": [
        {
          "output_type": "execute_result",
          "data": {
            "text/html": [
              "<div>\n",
              "<style scoped>\n",
              "    .dataframe tbody tr th:only-of-type {\n",
              "        vertical-align: middle;\n",
              "    }\n",
              "\n",
              "    .dataframe tbody tr th {\n",
              "        vertical-align: top;\n",
              "    }\n",
              "\n",
              "    .dataframe thead th {\n",
              "        text-align: right;\n",
              "    }\n",
              "</style>\n",
              "<table border=\"1\" class=\"dataframe\">\n",
              "  <thead>\n",
              "    <tr style=\"text-align: right;\">\n",
              "      <th></th>\n",
              "      <th>Season</th>\n",
              "      <th>WTeamID</th>\n",
              "      <th>LTeamID</th>\n",
              "      <th>WSeed</th>\n",
              "      <th>LSeed</th>\n",
              "    </tr>\n",
              "  </thead>\n",
              "  <tbody>\n",
              "    <tr>\n",
              "      <th>0</th>\n",
              "      <td>1985</td>\n",
              "      <td>1116</td>\n",
              "      <td>1234</td>\n",
              "      <td>9</td>\n",
              "      <td>8</td>\n",
              "    </tr>\n",
              "    <tr>\n",
              "      <th>1</th>\n",
              "      <td>1985</td>\n",
              "      <td>1120</td>\n",
              "      <td>1345</td>\n",
              "      <td>11</td>\n",
              "      <td>6</td>\n",
              "    </tr>\n",
              "    <tr>\n",
              "      <th>2</th>\n",
              "      <td>1985</td>\n",
              "      <td>1207</td>\n",
              "      <td>1250</td>\n",
              "      <td>1</td>\n",
              "      <td>16</td>\n",
              "    </tr>\n",
              "    <tr>\n",
              "      <th>3</th>\n",
              "      <td>1985</td>\n",
              "      <td>1229</td>\n",
              "      <td>1425</td>\n",
              "      <td>9</td>\n",
              "      <td>8</td>\n",
              "    </tr>\n",
              "    <tr>\n",
              "      <th>4</th>\n",
              "      <td>1985</td>\n",
              "      <td>1242</td>\n",
              "      <td>1325</td>\n",
              "      <td>3</td>\n",
              "      <td>14</td>\n",
              "    </tr>\n",
              "  </tbody>\n",
              "</table>\n",
              "</div>"
            ],
            "text/plain": [
              "   Season  WTeamID  LTeamID  WSeed  LSeed\n",
              "0    1985     1116     1234      9      8\n",
              "1    1985     1120     1345     11      6\n",
              "2    1985     1207     1250      1     16\n",
              "3    1985     1229     1425      9      8\n",
              "4    1985     1242     1325      3     14"
            ]
          },
          "metadata": {
            "tags": []
          },
          "execution_count": 15
        }
      ]
    },
    {
      "cell_type": "code",
      "metadata": {
        "trusted": true,
        "id": "5g_Oq3Nk11rA",
        "colab_type": "code",
        "outputId": "48f30634-38c9-43e9-cffe-9c05faf3ecef",
        "colab": {
          "base_uri": "https://localhost:8080/",
          "height": 194
        }
      },
      "source": [
        "df.head()"
      ],
      "execution_count": 17,
      "outputs": [
        {
          "output_type": "execute_result",
          "data": {
            "text/html": [
              "<div>\n",
              "<style scoped>\n",
              "    .dataframe tbody tr th:only-of-type {\n",
              "        vertical-align: middle;\n",
              "    }\n",
              "\n",
              "    .dataframe tbody tr th {\n",
              "        vertical-align: top;\n",
              "    }\n",
              "\n",
              "    .dataframe thead th {\n",
              "        text-align: right;\n",
              "    }\n",
              "</style>\n",
              "<table border=\"1\" class=\"dataframe\">\n",
              "  <thead>\n",
              "    <tr style=\"text-align: right;\">\n",
              "      <th></th>\n",
              "      <th>Season</th>\n",
              "      <th>WTeamID</th>\n",
              "      <th>LTeamID</th>\n",
              "      <th>WSeed</th>\n",
              "      <th>LSeed</th>\n",
              "    </tr>\n",
              "  </thead>\n",
              "  <tbody>\n",
              "    <tr>\n",
              "      <th>0</th>\n",
              "      <td>1985</td>\n",
              "      <td>1116</td>\n",
              "      <td>1234</td>\n",
              "      <td>9</td>\n",
              "      <td>8</td>\n",
              "    </tr>\n",
              "    <tr>\n",
              "      <th>1</th>\n",
              "      <td>1985</td>\n",
              "      <td>1120</td>\n",
              "      <td>1345</td>\n",
              "      <td>11</td>\n",
              "      <td>6</td>\n",
              "    </tr>\n",
              "    <tr>\n",
              "      <th>2</th>\n",
              "      <td>1985</td>\n",
              "      <td>1207</td>\n",
              "      <td>1250</td>\n",
              "      <td>1</td>\n",
              "      <td>16</td>\n",
              "    </tr>\n",
              "    <tr>\n",
              "      <th>3</th>\n",
              "      <td>1985</td>\n",
              "      <td>1229</td>\n",
              "      <td>1425</td>\n",
              "      <td>9</td>\n",
              "      <td>8</td>\n",
              "    </tr>\n",
              "    <tr>\n",
              "      <th>4</th>\n",
              "      <td>1985</td>\n",
              "      <td>1242</td>\n",
              "      <td>1325</td>\n",
              "      <td>3</td>\n",
              "      <td>14</td>\n",
              "    </tr>\n",
              "  </tbody>\n",
              "</table>\n",
              "</div>"
            ],
            "text/plain": [
              "   Season  WTeamID  LTeamID  WSeed  LSeed\n",
              "0    1985     1116     1234      9      8\n",
              "1    1985     1120     1345     11      6\n",
              "2    1985     1207     1250      1     16\n",
              "3    1985     1229     1425      9      8\n",
              "4    1985     1242     1325      3     14"
            ]
          },
          "metadata": {
            "tags": []
          },
          "execution_count": 17
        }
      ]
    },
    {
      "cell_type": "code",
      "metadata": {
        "trusted": true,
        "id": "Q0v60Dp911rC",
        "colab_type": "code",
        "outputId": "732f572d-b8dc-4405-dc6a-5456cb0d43d4",
        "colab": {
          "base_uri": "https://localhost:8080/",
          "height": 194
        }
      },
      "source": [
        "team_win_score = data_dict['MRegularSeasonCompactResults'].groupby(['Season', 'WTeamID']).agg({'WScore':['sum', 'count']}).reset_index()\n",
        "team_win_score.columns = ['Season', 'WTeamID', 'WScore_sum', 'WScore_count']\n",
        "team_loss_score = data_dict['MRegularSeasonCompactResults'].groupby(['Season', 'LTeamID']).agg({'LScore':['sum', 'count']}).reset_index()\n",
        "team_loss_score.columns = ['Season', 'LTeamID', 'LScore_sum', 'LScore_count']\n",
        "df = pd.merge(df, team_win_score, how='left', left_on=['Season', 'WTeamID'], right_on=['Season', 'WTeamID'])\n",
        "df = pd.merge(df, team_loss_score, how='left', left_on=['Season', 'LTeamID'], right_on=['Season', 'LTeamID'])\n",
        "df = pd.merge(df, team_loss_score, how='left', left_on=['Season', 'WTeamID'], right_on=['Season', 'LTeamID'])\n",
        "df = pd.merge(df, team_win_score, how='left', left_on=['Season', 'LTeamID_x'], right_on=['Season', 'WTeamID'])\n",
        "df.drop(['LTeamID_y', 'WTeamID_y'], axis=1, inplace=True)\n",
        "df.head()"
      ],
      "execution_count": 18,
      "outputs": [
        {
          "output_type": "execute_result",
          "data": {
            "text/html": [
              "<div>\n",
              "<style scoped>\n",
              "    .dataframe tbody tr th:only-of-type {\n",
              "        vertical-align: middle;\n",
              "    }\n",
              "\n",
              "    .dataframe tbody tr th {\n",
              "        vertical-align: top;\n",
              "    }\n",
              "\n",
              "    .dataframe thead th {\n",
              "        text-align: right;\n",
              "    }\n",
              "</style>\n",
              "<table border=\"1\" class=\"dataframe\">\n",
              "  <thead>\n",
              "    <tr style=\"text-align: right;\">\n",
              "      <th></th>\n",
              "      <th>Season</th>\n",
              "      <th>WTeamID_x</th>\n",
              "      <th>LTeamID_x</th>\n",
              "      <th>WSeed</th>\n",
              "      <th>LSeed</th>\n",
              "      <th>WScore_sum_x</th>\n",
              "      <th>WScore_count_x</th>\n",
              "      <th>LScore_sum_x</th>\n",
              "      <th>LScore_count_x</th>\n",
              "      <th>LScore_sum_y</th>\n",
              "      <th>LScore_count_y</th>\n",
              "      <th>WScore_sum_y</th>\n",
              "      <th>WScore_count_y</th>\n",
              "    </tr>\n",
              "  </thead>\n",
              "  <tbody>\n",
              "    <tr>\n",
              "      <th>0</th>\n",
              "      <td>1985</td>\n",
              "      <td>1116</td>\n",
              "      <td>1234</td>\n",
              "      <td>9</td>\n",
              "      <td>8</td>\n",
              "      <td>1448</td>\n",
              "      <td>21</td>\n",
              "      <td>567.0</td>\n",
              "      <td>10.0</td>\n",
              "      <td>708.0</td>\n",
              "      <td>12.0</td>\n",
              "      <td>1525</td>\n",
              "      <td>20</td>\n",
              "    </tr>\n",
              "    <tr>\n",
              "      <th>1</th>\n",
              "      <td>1985</td>\n",
              "      <td>1120</td>\n",
              "      <td>1345</td>\n",
              "      <td>11</td>\n",
              "      <td>6</td>\n",
              "      <td>1308</td>\n",
              "      <td>18</td>\n",
              "      <td>537.0</td>\n",
              "      <td>8.0</td>\n",
              "      <td>732.0</td>\n",
              "      <td>11.0</td>\n",
              "      <td>1191</td>\n",
              "      <td>17</td>\n",
              "    </tr>\n",
              "    <tr>\n",
              "      <th>2</th>\n",
              "      <td>1985</td>\n",
              "      <td>1207</td>\n",
              "      <td>1250</td>\n",
              "      <td>1</td>\n",
              "      <td>16</td>\n",
              "      <td>1917</td>\n",
              "      <td>25</td>\n",
              "      <td>1085.0</td>\n",
              "      <td>18.0</td>\n",
              "      <td>128.0</td>\n",
              "      <td>2.0</td>\n",
              "      <td>822</td>\n",
              "      <td>11</td>\n",
              "    </tr>\n",
              "    <tr>\n",
              "      <th>3</th>\n",
              "      <td>1985</td>\n",
              "      <td>1229</td>\n",
              "      <td>1425</td>\n",
              "      <td>9</td>\n",
              "      <td>8</td>\n",
              "      <td>1484</td>\n",
              "      <td>20</td>\n",
              "      <td>529.0</td>\n",
              "      <td>9.0</td>\n",
              "      <td>449.0</td>\n",
              "      <td>7.0</td>\n",
              "      <td>1386</td>\n",
              "      <td>19</td>\n",
              "    </tr>\n",
              "    <tr>\n",
              "      <th>4</th>\n",
              "      <td>1985</td>\n",
              "      <td>1242</td>\n",
              "      <td>1325</td>\n",
              "      <td>3</td>\n",
              "      <td>14</td>\n",
              "      <td>1809</td>\n",
              "      <td>23</td>\n",
              "      <td>475.0</td>\n",
              "      <td>7.0</td>\n",
              "      <td>472.0</td>\n",
              "      <td>7.0</td>\n",
              "      <td>1349</td>\n",
              "      <td>20</td>\n",
              "    </tr>\n",
              "  </tbody>\n",
              "</table>\n",
              "</div>"
            ],
            "text/plain": [
              "   Season  WTeamID_x  LTeamID_x  WSeed  LSeed  WScore_sum_x  WScore_count_x  \\\n",
              "0    1985       1116       1234      9      8          1448              21   \n",
              "1    1985       1120       1345     11      6          1308              18   \n",
              "2    1985       1207       1250      1     16          1917              25   \n",
              "3    1985       1229       1425      9      8          1484              20   \n",
              "4    1985       1242       1325      3     14          1809              23   \n",
              "\n",
              "   LScore_sum_x  LScore_count_x  LScore_sum_y  LScore_count_y  WScore_sum_y  \\\n",
              "0         567.0            10.0         708.0            12.0          1525   \n",
              "1         537.0             8.0         732.0            11.0          1191   \n",
              "2        1085.0            18.0         128.0             2.0           822   \n",
              "3         529.0             9.0         449.0             7.0          1386   \n",
              "4         475.0             7.0         472.0             7.0          1349   \n",
              "\n",
              "   WScore_count_y  \n",
              "0              20  \n",
              "1              17  \n",
              "2              11  \n",
              "3              19  \n",
              "4              20  "
            ]
          },
          "metadata": {
            "tags": []
          },
          "execution_count": 18
        }
      ]
    },
    {
      "cell_type": "code",
      "metadata": {
        "trusted": true,
        "id": "VWGDAdoy11rF",
        "colab_type": "code",
        "colab": {}
      },
      "source": [
        "df['x_score'] = df['WScore_sum_x'] + df['LScore_sum_y']\n",
        "df['y_score'] = df['WScore_sum_y'] + df['LScore_sum_x']\n",
        "df['x_count'] = df['WScore_count_x'] + df['LScore_count_y']\n",
        "df['y_count'] = df['WScore_count_y'] + df['WScore_count_x']"
      ],
      "execution_count": 0,
      "outputs": []
    },
    {
      "cell_type": "code",
      "metadata": {
        "trusted": true,
        "id": "zBViebDs11rI",
        "colab_type": "code",
        "colab": {}
      },
      "source": [
        "df_win = df.copy()\n",
        "df_los = df.copy()\n",
        "df_win = df_win[['WSeed', 'LSeed', 'x_score', 'y_score', 'x_count', 'y_count']]\n",
        "df_los = df_los[['LSeed', 'WSeed', 'y_score', 'x_score', 'x_count', 'y_count']]\n",
        "df_win.columns = ['Seed_1', 'Seed_2', 'Score_1', 'Score_2', 'Count_1', 'Count_2']\n",
        "df_los.columns = ['Seed_1', 'Seed_2', 'Score_1', 'Score_2', 'Count_1', 'Count_2']"
      ],
      "execution_count": 0,
      "outputs": []
    },
    {
      "cell_type": "code",
      "metadata": {
        "trusted": true,
        "id": "bBDAT1fE11rL",
        "colab_type": "code",
        "colab": {}
      },
      "source": [
        "df_win['Seed_diff'] = df_win['Seed_1'] - df_win['Seed_2']\n",
        "df_win['Score_diff'] = df_win['Score_1'] - df_win['Score_2']\n",
        "df_los['Seed_diff'] = df_los['Seed_1'] - df_los['Seed_2']\n",
        "df_los['Score_diff'] = df_los['Score_1'] - df_los['Score_2']\n",
        "\n",
        "df_win['Count_diff'] = df_win['Count_1'] - df_win['Count_2']\n",
        "df_win['Mean_score1'] = df_win['Score_1'] / df_win['Count_1']\n",
        "df_win['Mean_score2'] = df_win['Score_2'] / df_win['Count_2']\n",
        "df_win['Mean_score_diff'] = df_win['Mean_score1'] - df_win['Mean_score2']\n",
        "df_los['Count_diff'] = df_los['Count_1'] - df_los['Count_2']\n",
        "df_los['Mean_score1'] = df_los['Score_1'] / df_los['Count_1']\n",
        "df_los['Mean_score2'] = df_los['Score_2'] / df_los['Count_2']\n",
        "df_los['Mean_score_diff'] = df_los['Mean_score1'] - df_los['Mean_score2']"
      ],
      "execution_count": 0,
      "outputs": []
    },
    {
      "cell_type": "code",
      "metadata": {
        "trusted": true,
        "id": "w7Ow1rlp11rP",
        "colab_type": "code",
        "colab": {}
      },
      "source": [
        "df_win['result'] = 1\n",
        "df_los['result'] = 0\n",
        "data = pd.concat((df_win, df_los)).reset_index(drop=True)"
      ],
      "execution_count": 0,
      "outputs": []
    },
    {
      "cell_type": "code",
      "metadata": {
        "trusted": true,
        "id": "R1vXGA2f11rR",
        "colab_type": "code",
        "outputId": "511ba821-11e2-4f99-db36-7503542dd7f9",
        "colab": {
          "base_uri": "https://localhost:8080/",
          "height": 124
        }
      },
      "source": [
        "for col in ['Score_1', 'Score_2', 'Count_1', 'Count_2', 'Score_diff', 'Count_diff']:\n",
        "    print(col)\n",
        "    data[col] = data[col].fillna(0).astype(int)"
      ],
      "execution_count": 23,
      "outputs": [
        {
          "output_type": "stream",
          "text": [
            "Score_1\n",
            "Score_2\n",
            "Count_1\n",
            "Count_2\n",
            "Score_diff\n",
            "Count_diff\n"
          ],
          "name": "stdout"
        }
      ]
    },
    {
      "cell_type": "code",
      "metadata": {
        "trusted": true,
        "id": "TXpm7Bb611rT",
        "colab_type": "code",
        "outputId": "e2fc787a-4dcb-4f33-d1ed-b8d486535bb6",
        "colab": {
          "base_uri": "https://localhost:8080/",
          "height": 194
        }
      },
      "source": [
        "data.head()"
      ],
      "execution_count": 24,
      "outputs": [
        {
          "output_type": "execute_result",
          "data": {
            "text/html": [
              "<div>\n",
              "<style scoped>\n",
              "    .dataframe tbody tr th:only-of-type {\n",
              "        vertical-align: middle;\n",
              "    }\n",
              "\n",
              "    .dataframe tbody tr th {\n",
              "        vertical-align: top;\n",
              "    }\n",
              "\n",
              "    .dataframe thead th {\n",
              "        text-align: right;\n",
              "    }\n",
              "</style>\n",
              "<table border=\"1\" class=\"dataframe\">\n",
              "  <thead>\n",
              "    <tr style=\"text-align: right;\">\n",
              "      <th></th>\n",
              "      <th>Seed_1</th>\n",
              "      <th>Seed_2</th>\n",
              "      <th>Score_1</th>\n",
              "      <th>Score_2</th>\n",
              "      <th>Count_1</th>\n",
              "      <th>Count_2</th>\n",
              "      <th>Seed_diff</th>\n",
              "      <th>Score_diff</th>\n",
              "      <th>Count_diff</th>\n",
              "      <th>Mean_score1</th>\n",
              "      <th>Mean_score2</th>\n",
              "      <th>Mean_score_diff</th>\n",
              "      <th>result</th>\n",
              "    </tr>\n",
              "  </thead>\n",
              "  <tbody>\n",
              "    <tr>\n",
              "      <th>0</th>\n",
              "      <td>9</td>\n",
              "      <td>8</td>\n",
              "      <td>2156</td>\n",
              "      <td>2092</td>\n",
              "      <td>33</td>\n",
              "      <td>41</td>\n",
              "      <td>1</td>\n",
              "      <td>64</td>\n",
              "      <td>-8</td>\n",
              "      <td>65.333333</td>\n",
              "      <td>51.024390</td>\n",
              "      <td>14.308943</td>\n",
              "      <td>1</td>\n",
              "    </tr>\n",
              "    <tr>\n",
              "      <th>1</th>\n",
              "      <td>11</td>\n",
              "      <td>6</td>\n",
              "      <td>2040</td>\n",
              "      <td>1728</td>\n",
              "      <td>29</td>\n",
              "      <td>35</td>\n",
              "      <td>5</td>\n",
              "      <td>312</td>\n",
              "      <td>-6</td>\n",
              "      <td>70.344828</td>\n",
              "      <td>49.371429</td>\n",
              "      <td>20.973399</td>\n",
              "      <td>1</td>\n",
              "    </tr>\n",
              "    <tr>\n",
              "      <th>2</th>\n",
              "      <td>1</td>\n",
              "      <td>16</td>\n",
              "      <td>2045</td>\n",
              "      <td>1907</td>\n",
              "      <td>27</td>\n",
              "      <td>36</td>\n",
              "      <td>-15</td>\n",
              "      <td>138</td>\n",
              "      <td>-9</td>\n",
              "      <td>75.740741</td>\n",
              "      <td>52.972222</td>\n",
              "      <td>22.768519</td>\n",
              "      <td>1</td>\n",
              "    </tr>\n",
              "    <tr>\n",
              "      <th>3</th>\n",
              "      <td>9</td>\n",
              "      <td>8</td>\n",
              "      <td>1933</td>\n",
              "      <td>1915</td>\n",
              "      <td>27</td>\n",
              "      <td>39</td>\n",
              "      <td>1</td>\n",
              "      <td>18</td>\n",
              "      <td>-12</td>\n",
              "      <td>71.592593</td>\n",
              "      <td>49.102564</td>\n",
              "      <td>22.490028</td>\n",
              "      <td>1</td>\n",
              "    </tr>\n",
              "    <tr>\n",
              "      <th>4</th>\n",
              "      <td>3</td>\n",
              "      <td>14</td>\n",
              "      <td>2281</td>\n",
              "      <td>1824</td>\n",
              "      <td>30</td>\n",
              "      <td>43</td>\n",
              "      <td>-11</td>\n",
              "      <td>457</td>\n",
              "      <td>-13</td>\n",
              "      <td>76.033333</td>\n",
              "      <td>42.418605</td>\n",
              "      <td>33.614729</td>\n",
              "      <td>1</td>\n",
              "    </tr>\n",
              "  </tbody>\n",
              "</table>\n",
              "</div>"
            ],
            "text/plain": [
              "   Seed_1  Seed_2  Score_1  Score_2  Count_1  Count_2  Seed_diff  Score_diff  \\\n",
              "0       9       8     2156     2092       33       41          1          64   \n",
              "1      11       6     2040     1728       29       35          5         312   \n",
              "2       1      16     2045     1907       27       36        -15         138   \n",
              "3       9       8     1933     1915       27       39          1          18   \n",
              "4       3      14     2281     1824       30       43        -11         457   \n",
              "\n",
              "   Count_diff  Mean_score1  Mean_score2  Mean_score_diff  result  \n",
              "0          -8    65.333333    51.024390        14.308943       1  \n",
              "1          -6    70.344828    49.371429        20.973399       1  \n",
              "2          -9    75.740741    52.972222        22.768519       1  \n",
              "3         -12    71.592593    49.102564        22.490028       1  \n",
              "4         -13    76.033333    42.418605        33.614729       1  "
            ]
          },
          "metadata": {
            "tags": []
          },
          "execution_count": 24
        }
      ]
    },
    {
      "cell_type": "markdown",
      "metadata": {
        "id": "wbnC9afI11rV",
        "colab_type": "text"
      },
      "source": [
        "## Training model"
      ]
    },
    {
      "cell_type": "code",
      "metadata": {
        "trusted": true,
        "id": "8O6yq7ts11rW",
        "colab_type": "code",
        "colab": {}
      },
      "source": [
        "n_fold = 5\n",
        "folds = RepeatedStratifiedKFold(n_splits=n_fold)\n",
        "# folds = StratifiedKFold(n_splits=n_fold)"
      ],
      "execution_count": 0,
      "outputs": []
    },
    {
      "cell_type": "code",
      "metadata": {
        "trusted": true,
        "id": "uFZNZ_Qv11ra",
        "colab_type": "code",
        "colab": {}
      },
      "source": [
        "X = data.drop(['result'], axis=1)\n",
        "y = data['result']"
      ],
      "execution_count": 0,
      "outputs": []
    },
    {
      "cell_type": "code",
      "metadata": {
        "trusted": true,
        "id": "Mnakm3ha11rd",
        "colab_type": "code",
        "outputId": "aff560ad-addd-4dd1-b34d-e322f8e2860e",
        "colab": {
          "base_uri": "https://localhost:8080/",
          "height": 1000
        }
      },
      "source": [
        "# some of params are from this kernel: https://www.kaggle.com/ratan123/march-madness-2020-ncaam-simple-lightgbm-on-kfold\n",
        "param = {'n_estimators':10000,\n",
        "          'num_leaves': 400,\n",
        "          'min_child_weight': 0.034,\n",
        "          'feature_fraction': 0.379,\n",
        "          'bagging_fraction': 0.418,\n",
        "          'min_data_in_leaf': 106,\n",
        "          'objective': 'binary',\n",
        "          'max_depth': -1,\n",
        "          'learning_rate': 0.007,\n",
        "          \"boosting_type\": \"gbdt\",\n",
        "          #\"bagging_seed\": 11,\n",
        "          \"metric\": 'binary_logloss',\n",
        "          \"verbosity\": 10,\n",
        "          'reg_alpha': 0.3899,\n",
        "          'reg_lambda': 0.648,\n",
        "          'random_state': 47,\n",
        "          'task':'train', 'nthread':-1, \n",
        "         'verbose': 10000,\n",
        "         'early_stopping_rounds': 10000,\n",
        "         'eval_metric': 'binary_logloss'\n",
        "         }\n",
        "cat_cols = []\n",
        "mt = MainTransformer(create_interactions=False)\n",
        "# ct = CategoricalTransformer(drop_original=True, cat_cols=cat_cols)\n",
        "ft = FeatureTransformer()\n",
        "transformers = {'ft': ft}\n",
        "lgb_model = ClassifierModel(model_wrapper=LGBWrapper())\n",
        "lgb_model.fit(X=X, y=y, folds=folds, params=param, preprocesser=mt, transformers=transformers,\n",
        "                    eval_metric='binary_logloss', cols_to_drop=None, plot=True)"
      ],
      "execution_count": 0,
      "outputs": [
        {
          "output_type": "stream",
          "text": [
            "Fold 1 started at Mon Mar  2 22:32:38 2020\n",
            "Training until validation scores don't improve for 10000 rounds.\n",
            "[10000]\ttrain's binary_logloss: 0.146494\tvalid's binary_logloss: 0.552982\n",
            "Did not meet early stopping. Best iteration is:\n",
            "[10000]\ttrain's binary_logloss: 0.146494\tvalid's binary_logloss: 0.552982\n",
            "Fold 2 started at Mon Mar  2 22:32:58 2020\n",
            "Training until validation scores don't improve for 10000 rounds.\n",
            "[10000]\ttrain's binary_logloss: 0.141778\tvalid's binary_logloss: 0.580302\n",
            "Did not meet early stopping. Best iteration is:\n",
            "[10000]\ttrain's binary_logloss: 0.141778\tvalid's binary_logloss: 0.580302\n",
            "Fold 3 started at Mon Mar  2 22:33:18 2020\n",
            "Training until validation scores don't improve for 10000 rounds.\n",
            "[10000]\ttrain's binary_logloss: 0.136991\tvalid's binary_logloss: 0.632491\n",
            "Did not meet early stopping. Best iteration is:\n",
            "[10000]\ttrain's binary_logloss: 0.136991\tvalid's binary_logloss: 0.632491\n",
            "Fold 4 started at Mon Mar  2 22:33:38 2020\n",
            "Training until validation scores don't improve for 10000 rounds.\n",
            "[10000]\ttrain's binary_logloss: 0.14334\tvalid's binary_logloss: 0.56746\n",
            "Did not meet early stopping. Best iteration is:\n",
            "[10000]\ttrain's binary_logloss: 0.14334\tvalid's binary_logloss: 0.56746\n",
            "Fold 5 started at Mon Mar  2 22:33:57 2020\n",
            "Training until validation scores don't improve for 10000 rounds.\n",
            "[10000]\ttrain's binary_logloss: 0.141023\tvalid's binary_logloss: 0.581057\n",
            "Did not meet early stopping. Best iteration is:\n",
            "[10000]\ttrain's binary_logloss: 0.141023\tvalid's binary_logloss: 0.581057\n",
            "Fold 6 started at Mon Mar  2 22:34:15 2020\n",
            "Training until validation scores don't improve for 10000 rounds.\n",
            "[10000]\ttrain's binary_logloss: 0.140913\tvalid's binary_logloss: 0.597237\n",
            "Did not meet early stopping. Best iteration is:\n",
            "[10000]\ttrain's binary_logloss: 0.140913\tvalid's binary_logloss: 0.597237\n",
            "Fold 7 started at Mon Mar  2 22:34:34 2020\n",
            "Training until validation scores don't improve for 10000 rounds.\n",
            "[10000]\ttrain's binary_logloss: 0.142419\tvalid's binary_logloss: 0.575025\n",
            "Did not meet early stopping. Best iteration is:\n",
            "[10000]\ttrain's binary_logloss: 0.142419\tvalid's binary_logloss: 0.575025\n",
            "Fold 8 started at Mon Mar  2 22:34:53 2020\n",
            "Training until validation scores don't improve for 10000 rounds.\n",
            "[10000]\ttrain's binary_logloss: 0.141233\tvalid's binary_logloss: 0.572823\n",
            "Did not meet early stopping. Best iteration is:\n",
            "[10000]\ttrain's binary_logloss: 0.141233\tvalid's binary_logloss: 0.572823\n",
            "Fold 9 started at Mon Mar  2 22:35:13 2020\n",
            "Training until validation scores don't improve for 10000 rounds.\n",
            "[10000]\ttrain's binary_logloss: 0.143349\tvalid's binary_logloss: 0.577008\n",
            "Did not meet early stopping. Best iteration is:\n",
            "[10000]\ttrain's binary_logloss: 0.143349\tvalid's binary_logloss: 0.577008\n",
            "Fold 10 started at Mon Mar  2 22:35:32 2020\n",
            "Training until validation scores don't improve for 10000 rounds.\n",
            "[10000]\ttrain's binary_logloss: 0.140196\tvalid's binary_logloss: 0.599815\n",
            "Did not meet early stopping. Best iteration is:\n",
            "[10000]\ttrain's binary_logloss: 0.140196\tvalid's binary_logloss: 0.599815\n",
            "Fold 11 started at Mon Mar  2 22:35:52 2020\n",
            "Training until validation scores don't improve for 10000 rounds.\n",
            "[10000]\ttrain's binary_logloss: 0.141697\tvalid's binary_logloss: 0.576135\n",
            "Did not meet early stopping. Best iteration is:\n",
            "[10000]\ttrain's binary_logloss: 0.141697\tvalid's binary_logloss: 0.576135\n",
            "Fold 12 started at Mon Mar  2 22:36:11 2020\n",
            "Training until validation scores don't improve for 10000 rounds.\n",
            "[10000]\ttrain's binary_logloss: 0.143024\tvalid's binary_logloss: 0.579619\n",
            "Did not meet early stopping. Best iteration is:\n",
            "[10000]\ttrain's binary_logloss: 0.143024\tvalid's binary_logloss: 0.579619\n",
            "Fold 13 started at Mon Mar  2 22:36:31 2020\n",
            "Training until validation scores don't improve for 10000 rounds.\n",
            "[10000]\ttrain's binary_logloss: 0.140223\tvalid's binary_logloss: 0.607089\n",
            "Did not meet early stopping. Best iteration is:\n",
            "[10000]\ttrain's binary_logloss: 0.140223\tvalid's binary_logloss: 0.607089\n",
            "Fold 14 started at Mon Mar  2 22:36:50 2020\n",
            "Training until validation scores don't improve for 10000 rounds.\n",
            "[10000]\ttrain's binary_logloss: 0.14367\tvalid's binary_logloss: 0.573369\n",
            "Did not meet early stopping. Best iteration is:\n",
            "[10000]\ttrain's binary_logloss: 0.14367\tvalid's binary_logloss: 0.573369\n",
            "Fold 15 started at Mon Mar  2 22:37:10 2020\n",
            "Training until validation scores don't improve for 10000 rounds.\n",
            "[10000]\ttrain's binary_logloss: 0.144105\tvalid's binary_logloss: 0.553822\n",
            "Did not meet early stopping. Best iteration is:\n",
            "[10000]\ttrain's binary_logloss: 0.144105\tvalid's binary_logloss: 0.553822\n",
            "Fold 16 started at Mon Mar  2 22:37:29 2020\n",
            "Training until validation scores don't improve for 10000 rounds.\n",
            "[10000]\ttrain's binary_logloss: 0.139277\tvalid's binary_logloss: 0.607672\n",
            "Did not meet early stopping. Best iteration is:\n",
            "[10000]\ttrain's binary_logloss: 0.139277\tvalid's binary_logloss: 0.607672\n",
            "Fold 17 started at Mon Mar  2 22:37:49 2020\n",
            "Training until validation scores don't improve for 10000 rounds.\n",
            "[10000]\ttrain's binary_logloss: 0.139815\tvalid's binary_logloss: 0.58365\n",
            "Did not meet early stopping. Best iteration is:\n",
            "[10000]\ttrain's binary_logloss: 0.139815\tvalid's binary_logloss: 0.58365\n",
            "Fold 18 started at Mon Mar  2 22:38:08 2020\n",
            "Training until validation scores don't improve for 10000 rounds.\n"
          ],
          "name": "stdout"
        }
      ]
    },
    {
      "cell_type": "markdown",
      "metadata": {
        "id": "TPk8HM2E11rf",
        "colab_type": "text"
      },
      "source": [
        "## Preparing test data"
      ]
    },
    {
      "cell_type": "code",
      "metadata": {
        "trusted": true,
        "id": "cF2nSskh11rg",
        "colab_type": "code",
        "outputId": "99892054-d069-4c4d-c3d2-f39ccb256d7b",
        "colab": {
          "base_uri": "https://localhost:8080/",
          "height": 479
        }
      },
      "source": [
        "test = pd.read_csv('../input/google-cloud-ncaa-march-madness-2020-division-1-mens-tournament/MSampleSubmissionStage1_2020.csv')\n",
        "test = test.drop(['Pred'], axis=1)\n",
        "test['Season'] = test['ID'].apply(lambda x: int(x.split('_')[0]))\n",
        "test['Team1'] = test['ID'].apply(lambda x: int(x.split('_')[1]))\n",
        "test['Team2'] = test['ID'].apply(lambda x: int(x.split('_')[2]))\n",
        "test = pd.merge(test, data_dict['MNCAATourneySeeds'], how='left', left_on=['Season', 'Team1'], right_on=['Season', 'TeamID'])\n",
        "test = pd.merge(test, data_dict['MNCAATourneySeeds'], how='left', left_on=['Season', 'Team2'], right_on=['Season', 'TeamID'])\n",
        "test = pd.merge(test, team_win_score, how='left', left_on=['Season', 'Team1'], right_on=['Season', 'WTeamID'])\n",
        "test = pd.merge(test, team_loss_score, how='left', left_on=['Season', 'Team2'], right_on=['Season', 'LTeamID'])\n",
        "test = pd.merge(test, team_loss_score, how='left', left_on=['Season', 'Team1'], right_on=['Season', 'LTeamID'])\n",
        "test = pd.merge(test, team_win_score, how='left', left_on=['Season', 'Team2'], right_on=['Season', 'WTeamID'])\n",
        "test['seed_diff'] = test['Seed_x'] - test['Seed_y']"
      ],
      "execution_count": 0,
      "outputs": [
        {
          "output_type": "error",
          "ename": "FileNotFoundError",
          "evalue": "ignored",
          "traceback": [
            "\u001b[0;31m---------------------------------------------------------------------------\u001b[0m",
            "\u001b[0;31mFileNotFoundError\u001b[0m                         Traceback (most recent call last)",
            "\u001b[0;32m<ipython-input-24-1fd7d34ae521>\u001b[0m in \u001b[0;36m<module>\u001b[0;34m()\u001b[0m\n\u001b[0;32m----> 1\u001b[0;31m \u001b[0mtest\u001b[0m \u001b[0;34m=\u001b[0m \u001b[0mpd\u001b[0m\u001b[0;34m.\u001b[0m\u001b[0mread_csv\u001b[0m\u001b[0;34m(\u001b[0m\u001b[0;34m'../input/google-cloud-ncaa-march-madness-2020-division-1-mens-tournament/MSampleSubmissionStage1_2020.csv'\u001b[0m\u001b[0;34m)\u001b[0m\u001b[0;34m\u001b[0m\u001b[0;34m\u001b[0m\u001b[0m\n\u001b[0m\u001b[1;32m      2\u001b[0m \u001b[0mtest\u001b[0m \u001b[0;34m=\u001b[0m \u001b[0mtest\u001b[0m\u001b[0;34m.\u001b[0m\u001b[0mdrop\u001b[0m\u001b[0;34m(\u001b[0m\u001b[0;34m[\u001b[0m\u001b[0;34m'Pred'\u001b[0m\u001b[0;34m]\u001b[0m\u001b[0;34m,\u001b[0m \u001b[0maxis\u001b[0m\u001b[0;34m=\u001b[0m\u001b[0;36m1\u001b[0m\u001b[0;34m)\u001b[0m\u001b[0;34m\u001b[0m\u001b[0;34m\u001b[0m\u001b[0m\n\u001b[1;32m      3\u001b[0m \u001b[0mtest\u001b[0m\u001b[0;34m[\u001b[0m\u001b[0;34m'Season'\u001b[0m\u001b[0;34m]\u001b[0m \u001b[0;34m=\u001b[0m \u001b[0mtest\u001b[0m\u001b[0;34m[\u001b[0m\u001b[0;34m'ID'\u001b[0m\u001b[0;34m]\u001b[0m\u001b[0;34m.\u001b[0m\u001b[0mapply\u001b[0m\u001b[0;34m(\u001b[0m\u001b[0;32mlambda\u001b[0m \u001b[0mx\u001b[0m\u001b[0;34m:\u001b[0m \u001b[0mint\u001b[0m\u001b[0;34m(\u001b[0m\u001b[0mx\u001b[0m\u001b[0;34m.\u001b[0m\u001b[0msplit\u001b[0m\u001b[0;34m(\u001b[0m\u001b[0;34m'_'\u001b[0m\u001b[0;34m)\u001b[0m\u001b[0;34m[\u001b[0m\u001b[0;36m0\u001b[0m\u001b[0;34m]\u001b[0m\u001b[0;34m)\u001b[0m\u001b[0;34m)\u001b[0m\u001b[0;34m\u001b[0m\u001b[0;34m\u001b[0m\u001b[0m\n\u001b[1;32m      4\u001b[0m \u001b[0mtest\u001b[0m\u001b[0;34m[\u001b[0m\u001b[0;34m'Team1'\u001b[0m\u001b[0;34m]\u001b[0m \u001b[0;34m=\u001b[0m \u001b[0mtest\u001b[0m\u001b[0;34m[\u001b[0m\u001b[0;34m'ID'\u001b[0m\u001b[0;34m]\u001b[0m\u001b[0;34m.\u001b[0m\u001b[0mapply\u001b[0m\u001b[0;34m(\u001b[0m\u001b[0;32mlambda\u001b[0m \u001b[0mx\u001b[0m\u001b[0;34m:\u001b[0m \u001b[0mint\u001b[0m\u001b[0;34m(\u001b[0m\u001b[0mx\u001b[0m\u001b[0;34m.\u001b[0m\u001b[0msplit\u001b[0m\u001b[0;34m(\u001b[0m\u001b[0;34m'_'\u001b[0m\u001b[0;34m)\u001b[0m\u001b[0;34m[\u001b[0m\u001b[0;36m1\u001b[0m\u001b[0;34m]\u001b[0m\u001b[0;34m)\u001b[0m\u001b[0;34m)\u001b[0m\u001b[0;34m\u001b[0m\u001b[0;34m\u001b[0m\u001b[0m\n\u001b[1;32m      5\u001b[0m \u001b[0mtest\u001b[0m\u001b[0;34m[\u001b[0m\u001b[0;34m'Team2'\u001b[0m\u001b[0;34m]\u001b[0m \u001b[0;34m=\u001b[0m \u001b[0mtest\u001b[0m\u001b[0;34m[\u001b[0m\u001b[0;34m'ID'\u001b[0m\u001b[0;34m]\u001b[0m\u001b[0;34m.\u001b[0m\u001b[0mapply\u001b[0m\u001b[0;34m(\u001b[0m\u001b[0;32mlambda\u001b[0m \u001b[0mx\u001b[0m\u001b[0;34m:\u001b[0m \u001b[0mint\u001b[0m\u001b[0;34m(\u001b[0m\u001b[0mx\u001b[0m\u001b[0;34m.\u001b[0m\u001b[0msplit\u001b[0m\u001b[0;34m(\u001b[0m\u001b[0;34m'_'\u001b[0m\u001b[0;34m)\u001b[0m\u001b[0;34m[\u001b[0m\u001b[0;36m2\u001b[0m\u001b[0;34m]\u001b[0m\u001b[0;34m)\u001b[0m\u001b[0;34m)\u001b[0m\u001b[0;34m\u001b[0m\u001b[0;34m\u001b[0m\u001b[0m\n",
            "\u001b[0;32m/usr/local/lib/python3.6/dist-packages/pandas/io/parsers.py\u001b[0m in \u001b[0;36mparser_f\u001b[0;34m(filepath_or_buffer, sep, delimiter, header, names, index_col, usecols, squeeze, prefix, mangle_dupe_cols, dtype, engine, converters, true_values, false_values, skipinitialspace, skiprows, skipfooter, nrows, na_values, keep_default_na, na_filter, verbose, skip_blank_lines, parse_dates, infer_datetime_format, keep_date_col, date_parser, dayfirst, cache_dates, iterator, chunksize, compression, thousands, decimal, lineterminator, quotechar, quoting, doublequote, escapechar, comment, encoding, dialect, error_bad_lines, warn_bad_lines, delim_whitespace, low_memory, memory_map, float_precision)\u001b[0m\n\u001b[1;32m    683\u001b[0m         )\n\u001b[1;32m    684\u001b[0m \u001b[0;34m\u001b[0m\u001b[0m\n\u001b[0;32m--> 685\u001b[0;31m         \u001b[0;32mreturn\u001b[0m \u001b[0m_read\u001b[0m\u001b[0;34m(\u001b[0m\u001b[0mfilepath_or_buffer\u001b[0m\u001b[0;34m,\u001b[0m \u001b[0mkwds\u001b[0m\u001b[0;34m)\u001b[0m\u001b[0;34m\u001b[0m\u001b[0;34m\u001b[0m\u001b[0m\n\u001b[0m\u001b[1;32m    686\u001b[0m \u001b[0;34m\u001b[0m\u001b[0m\n\u001b[1;32m    687\u001b[0m     \u001b[0mparser_f\u001b[0m\u001b[0;34m.\u001b[0m\u001b[0m__name__\u001b[0m \u001b[0;34m=\u001b[0m \u001b[0mname\u001b[0m\u001b[0;34m\u001b[0m\u001b[0;34m\u001b[0m\u001b[0m\n",
            "\u001b[0;32m/usr/local/lib/python3.6/dist-packages/pandas/io/parsers.py\u001b[0m in \u001b[0;36m_read\u001b[0;34m(filepath_or_buffer, kwds)\u001b[0m\n\u001b[1;32m    455\u001b[0m \u001b[0;34m\u001b[0m\u001b[0m\n\u001b[1;32m    456\u001b[0m     \u001b[0;31m# Create the parser.\u001b[0m\u001b[0;34m\u001b[0m\u001b[0;34m\u001b[0m\u001b[0;34m\u001b[0m\u001b[0m\n\u001b[0;32m--> 457\u001b[0;31m     \u001b[0mparser\u001b[0m \u001b[0;34m=\u001b[0m \u001b[0mTextFileReader\u001b[0m\u001b[0;34m(\u001b[0m\u001b[0mfp_or_buf\u001b[0m\u001b[0;34m,\u001b[0m \u001b[0;34m**\u001b[0m\u001b[0mkwds\u001b[0m\u001b[0;34m)\u001b[0m\u001b[0;34m\u001b[0m\u001b[0;34m\u001b[0m\u001b[0m\n\u001b[0m\u001b[1;32m    458\u001b[0m \u001b[0;34m\u001b[0m\u001b[0m\n\u001b[1;32m    459\u001b[0m     \u001b[0;32mif\u001b[0m \u001b[0mchunksize\u001b[0m \u001b[0;32mor\u001b[0m \u001b[0miterator\u001b[0m\u001b[0;34m:\u001b[0m\u001b[0;34m\u001b[0m\u001b[0;34m\u001b[0m\u001b[0m\n",
            "\u001b[0;32m/usr/local/lib/python3.6/dist-packages/pandas/io/parsers.py\u001b[0m in \u001b[0;36m__init__\u001b[0;34m(self, f, engine, **kwds)\u001b[0m\n\u001b[1;32m    893\u001b[0m             \u001b[0mself\u001b[0m\u001b[0;34m.\u001b[0m\u001b[0moptions\u001b[0m\u001b[0;34m[\u001b[0m\u001b[0;34m\"has_index_names\"\u001b[0m\u001b[0;34m]\u001b[0m \u001b[0;34m=\u001b[0m \u001b[0mkwds\u001b[0m\u001b[0;34m[\u001b[0m\u001b[0;34m\"has_index_names\"\u001b[0m\u001b[0;34m]\u001b[0m\u001b[0;34m\u001b[0m\u001b[0;34m\u001b[0m\u001b[0m\n\u001b[1;32m    894\u001b[0m \u001b[0;34m\u001b[0m\u001b[0m\n\u001b[0;32m--> 895\u001b[0;31m         \u001b[0mself\u001b[0m\u001b[0;34m.\u001b[0m\u001b[0m_make_engine\u001b[0m\u001b[0;34m(\u001b[0m\u001b[0mself\u001b[0m\u001b[0;34m.\u001b[0m\u001b[0mengine\u001b[0m\u001b[0;34m)\u001b[0m\u001b[0;34m\u001b[0m\u001b[0;34m\u001b[0m\u001b[0m\n\u001b[0m\u001b[1;32m    896\u001b[0m \u001b[0;34m\u001b[0m\u001b[0m\n\u001b[1;32m    897\u001b[0m     \u001b[0;32mdef\u001b[0m \u001b[0mclose\u001b[0m\u001b[0;34m(\u001b[0m\u001b[0mself\u001b[0m\u001b[0;34m)\u001b[0m\u001b[0;34m:\u001b[0m\u001b[0;34m\u001b[0m\u001b[0;34m\u001b[0m\u001b[0m\n",
            "\u001b[0;32m/usr/local/lib/python3.6/dist-packages/pandas/io/parsers.py\u001b[0m in \u001b[0;36m_make_engine\u001b[0;34m(self, engine)\u001b[0m\n\u001b[1;32m   1133\u001b[0m     \u001b[0;32mdef\u001b[0m \u001b[0m_make_engine\u001b[0m\u001b[0;34m(\u001b[0m\u001b[0mself\u001b[0m\u001b[0;34m,\u001b[0m \u001b[0mengine\u001b[0m\u001b[0;34m=\u001b[0m\u001b[0;34m\"c\"\u001b[0m\u001b[0;34m)\u001b[0m\u001b[0;34m:\u001b[0m\u001b[0;34m\u001b[0m\u001b[0;34m\u001b[0m\u001b[0m\n\u001b[1;32m   1134\u001b[0m         \u001b[0;32mif\u001b[0m \u001b[0mengine\u001b[0m \u001b[0;34m==\u001b[0m \u001b[0;34m\"c\"\u001b[0m\u001b[0;34m:\u001b[0m\u001b[0;34m\u001b[0m\u001b[0;34m\u001b[0m\u001b[0m\n\u001b[0;32m-> 1135\u001b[0;31m             \u001b[0mself\u001b[0m\u001b[0;34m.\u001b[0m\u001b[0m_engine\u001b[0m \u001b[0;34m=\u001b[0m \u001b[0mCParserWrapper\u001b[0m\u001b[0;34m(\u001b[0m\u001b[0mself\u001b[0m\u001b[0;34m.\u001b[0m\u001b[0mf\u001b[0m\u001b[0;34m,\u001b[0m \u001b[0;34m**\u001b[0m\u001b[0mself\u001b[0m\u001b[0;34m.\u001b[0m\u001b[0moptions\u001b[0m\u001b[0;34m)\u001b[0m\u001b[0;34m\u001b[0m\u001b[0;34m\u001b[0m\u001b[0m\n\u001b[0m\u001b[1;32m   1136\u001b[0m         \u001b[0;32melse\u001b[0m\u001b[0;34m:\u001b[0m\u001b[0;34m\u001b[0m\u001b[0;34m\u001b[0m\u001b[0m\n\u001b[1;32m   1137\u001b[0m             \u001b[0;32mif\u001b[0m \u001b[0mengine\u001b[0m \u001b[0;34m==\u001b[0m \u001b[0;34m\"python\"\u001b[0m\u001b[0;34m:\u001b[0m\u001b[0;34m\u001b[0m\u001b[0;34m\u001b[0m\u001b[0m\n",
            "\u001b[0;32m/usr/local/lib/python3.6/dist-packages/pandas/io/parsers.py\u001b[0m in \u001b[0;36m__init__\u001b[0;34m(self, src, **kwds)\u001b[0m\n\u001b[1;32m   1915\u001b[0m         \u001b[0mkwds\u001b[0m\u001b[0;34m[\u001b[0m\u001b[0;34m\"usecols\"\u001b[0m\u001b[0;34m]\u001b[0m \u001b[0;34m=\u001b[0m \u001b[0mself\u001b[0m\u001b[0;34m.\u001b[0m\u001b[0musecols\u001b[0m\u001b[0;34m\u001b[0m\u001b[0;34m\u001b[0m\u001b[0m\n\u001b[1;32m   1916\u001b[0m \u001b[0;34m\u001b[0m\u001b[0m\n\u001b[0;32m-> 1917\u001b[0;31m         \u001b[0mself\u001b[0m\u001b[0;34m.\u001b[0m\u001b[0m_reader\u001b[0m \u001b[0;34m=\u001b[0m \u001b[0mparsers\u001b[0m\u001b[0;34m.\u001b[0m\u001b[0mTextReader\u001b[0m\u001b[0;34m(\u001b[0m\u001b[0msrc\u001b[0m\u001b[0;34m,\u001b[0m \u001b[0;34m**\u001b[0m\u001b[0mkwds\u001b[0m\u001b[0;34m)\u001b[0m\u001b[0;34m\u001b[0m\u001b[0;34m\u001b[0m\u001b[0m\n\u001b[0m\u001b[1;32m   1918\u001b[0m         \u001b[0mself\u001b[0m\u001b[0;34m.\u001b[0m\u001b[0munnamed_cols\u001b[0m \u001b[0;34m=\u001b[0m \u001b[0mself\u001b[0m\u001b[0;34m.\u001b[0m\u001b[0m_reader\u001b[0m\u001b[0;34m.\u001b[0m\u001b[0munnamed_cols\u001b[0m\u001b[0;34m\u001b[0m\u001b[0;34m\u001b[0m\u001b[0m\n\u001b[1;32m   1919\u001b[0m \u001b[0;34m\u001b[0m\u001b[0m\n",
            "\u001b[0;32mpandas/_libs/parsers.pyx\u001b[0m in \u001b[0;36mpandas._libs.parsers.TextReader.__cinit__\u001b[0;34m()\u001b[0m\n",
            "\u001b[0;32mpandas/_libs/parsers.pyx\u001b[0m in \u001b[0;36mpandas._libs.parsers.TextReader._setup_parser_source\u001b[0;34m()\u001b[0m\n",
            "\u001b[0;31mFileNotFoundError\u001b[0m: [Errno 2] File b'../input/google-cloud-ncaa-march-madness-2020-division-1-mens-tournament/MSampleSubmissionStage1_2020.csv' does not exist: b'../input/google-cloud-ncaa-march-madness-2020-division-1-mens-tournament/MSampleSubmissionStage1_2020.csv'"
          ]
        }
      ]
    },
    {
      "cell_type": "code",
      "metadata": {
        "trusted": true,
        "id": "Ecy1eXwd11ri",
        "colab_type": "code",
        "outputId": "f74fc940-7a89-4523-ff8d-a37ad8316d31",
        "colab": {
          "base_uri": "https://localhost:8080/",
          "height": 221
        }
      },
      "source": [
        "test['x_score'] = test['WScore_sum_x'] + test['LScore_sum_y']\n",
        "test['y_score'] = test['WScore_sum_y'] + test['LScore_sum_x']\n",
        "test['x_count'] = test['WScore_count_x'] + test['LScore_count_y']\n",
        "test['y_count'] = test['WScore_count_y'] + test['WScore_count_x']"
      ],
      "execution_count": 0,
      "outputs": [
        {
          "output_type": "error",
          "ename": "NameError",
          "evalue": "ignored",
          "traceback": [
            "\u001b[0;31m---------------------------------------------------------------------------\u001b[0m",
            "\u001b[0;31mNameError\u001b[0m                                 Traceback (most recent call last)",
            "\u001b[0;32m<ipython-input-25-45517c7940e8>\u001b[0m in \u001b[0;36m<module>\u001b[0;34m()\u001b[0m\n\u001b[0;32m----> 1\u001b[0;31m \u001b[0mtest\u001b[0m\u001b[0;34m[\u001b[0m\u001b[0;34m'x_score'\u001b[0m\u001b[0;34m]\u001b[0m \u001b[0;34m=\u001b[0m \u001b[0mtest\u001b[0m\u001b[0;34m[\u001b[0m\u001b[0;34m'WScore_sum_x'\u001b[0m\u001b[0;34m]\u001b[0m \u001b[0;34m+\u001b[0m \u001b[0mtest\u001b[0m\u001b[0;34m[\u001b[0m\u001b[0;34m'LScore_sum_y'\u001b[0m\u001b[0;34m]\u001b[0m\u001b[0;34m\u001b[0m\u001b[0;34m\u001b[0m\u001b[0m\n\u001b[0m\u001b[1;32m      2\u001b[0m \u001b[0mtest\u001b[0m\u001b[0;34m[\u001b[0m\u001b[0;34m'y_score'\u001b[0m\u001b[0;34m]\u001b[0m \u001b[0;34m=\u001b[0m \u001b[0mtest\u001b[0m\u001b[0;34m[\u001b[0m\u001b[0;34m'WScore_sum_y'\u001b[0m\u001b[0;34m]\u001b[0m \u001b[0;34m+\u001b[0m \u001b[0mtest\u001b[0m\u001b[0;34m[\u001b[0m\u001b[0;34m'LScore_sum_x'\u001b[0m\u001b[0;34m]\u001b[0m\u001b[0;34m\u001b[0m\u001b[0;34m\u001b[0m\u001b[0m\n\u001b[1;32m      3\u001b[0m \u001b[0mtest\u001b[0m\u001b[0;34m[\u001b[0m\u001b[0;34m'x_count'\u001b[0m\u001b[0;34m]\u001b[0m \u001b[0;34m=\u001b[0m \u001b[0mtest\u001b[0m\u001b[0;34m[\u001b[0m\u001b[0;34m'WScore_count_x'\u001b[0m\u001b[0;34m]\u001b[0m \u001b[0;34m+\u001b[0m \u001b[0mtest\u001b[0m\u001b[0;34m[\u001b[0m\u001b[0;34m'LScore_count_y'\u001b[0m\u001b[0;34m]\u001b[0m\u001b[0;34m\u001b[0m\u001b[0;34m\u001b[0m\u001b[0m\n\u001b[1;32m      4\u001b[0m \u001b[0mtest\u001b[0m\u001b[0;34m[\u001b[0m\u001b[0;34m'y_count'\u001b[0m\u001b[0;34m]\u001b[0m \u001b[0;34m=\u001b[0m \u001b[0mtest\u001b[0m\u001b[0;34m[\u001b[0m\u001b[0;34m'WScore_count_y'\u001b[0m\u001b[0;34m]\u001b[0m \u001b[0;34m+\u001b[0m \u001b[0mtest\u001b[0m\u001b[0;34m[\u001b[0m\u001b[0;34m'WScore_count_x'\u001b[0m\u001b[0;34m]\u001b[0m\u001b[0;34m\u001b[0m\u001b[0;34m\u001b[0m\u001b[0m\n",
            "\u001b[0;31mNameError\u001b[0m: name 'test' is not defined"
          ]
        }
      ]
    },
    {
      "cell_type": "code",
      "metadata": {
        "trusted": true,
        "id": "KWu7skNP11rn",
        "colab_type": "code",
        "outputId": "f0b41322-2a66-42c1-aaf7-f6bc3780c857",
        "colab": {
          "base_uri": "https://localhost:8080/",
          "height": 168
        }
      },
      "source": [
        "test.head()"
      ],
      "execution_count": 0,
      "outputs": [
        {
          "output_type": "error",
          "ename": "NameError",
          "evalue": "ignored",
          "traceback": [
            "\u001b[0;31m---------------------------------------------------------------------------\u001b[0m",
            "\u001b[0;31mNameError\u001b[0m                                 Traceback (most recent call last)",
            "\u001b[0;32m<ipython-input-26-ca7e793253ef>\u001b[0m in \u001b[0;36m<module>\u001b[0;34m()\u001b[0m\n\u001b[0;32m----> 1\u001b[0;31m \u001b[0mtest\u001b[0m\u001b[0;34m.\u001b[0m\u001b[0mhead\u001b[0m\u001b[0;34m(\u001b[0m\u001b[0;34m)\u001b[0m\u001b[0;34m\u001b[0m\u001b[0;34m\u001b[0m\u001b[0m\n\u001b[0m",
            "\u001b[0;31mNameError\u001b[0m: name 'test' is not defined"
          ]
        }
      ]
    },
    {
      "cell_type": "code",
      "metadata": {
        "trusted": true,
        "id": "s1iNMJzM11rs",
        "colab_type": "code",
        "outputId": "1c38156e-4ff1-43d6-cd30-d603426f19a2",
        "colab": {
          "base_uri": "https://localhost:8080/",
          "height": 186
        }
      },
      "source": [
        "test = test[['Seed_x', 'Seed_y', 'x_score', 'y_score', 'x_count', 'y_count']]\n",
        "test.columns = ['Seed_1', 'Seed_2', 'Score_1', 'Score_2', 'Count_1', 'Count_2']"
      ],
      "execution_count": 0,
      "outputs": [
        {
          "output_type": "error",
          "ename": "NameError",
          "evalue": "ignored",
          "traceback": [
            "\u001b[0;31m---------------------------------------------------------------------------\u001b[0m",
            "\u001b[0;31mNameError\u001b[0m                                 Traceback (most recent call last)",
            "\u001b[0;32m<ipython-input-27-2322a6259bbc>\u001b[0m in \u001b[0;36m<module>\u001b[0;34m()\u001b[0m\n\u001b[0;32m----> 1\u001b[0;31m \u001b[0mtest\u001b[0m \u001b[0;34m=\u001b[0m \u001b[0mtest\u001b[0m\u001b[0;34m[\u001b[0m\u001b[0;34m[\u001b[0m\u001b[0;34m'Seed_x'\u001b[0m\u001b[0;34m,\u001b[0m \u001b[0;34m'Seed_y'\u001b[0m\u001b[0;34m,\u001b[0m \u001b[0;34m'x_score'\u001b[0m\u001b[0;34m,\u001b[0m \u001b[0;34m'y_score'\u001b[0m\u001b[0;34m,\u001b[0m \u001b[0;34m'x_count'\u001b[0m\u001b[0;34m,\u001b[0m \u001b[0;34m'y_count'\u001b[0m\u001b[0;34m]\u001b[0m\u001b[0;34m]\u001b[0m\u001b[0;34m\u001b[0m\u001b[0;34m\u001b[0m\u001b[0m\n\u001b[0m\u001b[1;32m      2\u001b[0m \u001b[0mtest\u001b[0m\u001b[0;34m.\u001b[0m\u001b[0mcolumns\u001b[0m \u001b[0;34m=\u001b[0m \u001b[0;34m[\u001b[0m\u001b[0;34m'Seed_1'\u001b[0m\u001b[0;34m,\u001b[0m \u001b[0;34m'Seed_2'\u001b[0m\u001b[0;34m,\u001b[0m \u001b[0;34m'Score_1'\u001b[0m\u001b[0;34m,\u001b[0m \u001b[0;34m'Score_2'\u001b[0m\u001b[0;34m,\u001b[0m \u001b[0;34m'Count_1'\u001b[0m\u001b[0;34m,\u001b[0m \u001b[0;34m'Count_2'\u001b[0m\u001b[0;34m]\u001b[0m\u001b[0;34m\u001b[0m\u001b[0;34m\u001b[0m\u001b[0m\n",
            "\u001b[0;31mNameError\u001b[0m: name 'test' is not defined"
          ]
        }
      ]
    },
    {
      "cell_type": "code",
      "metadata": {
        "trusted": true,
        "id": "pbZy4Agb11rv",
        "colab_type": "code",
        "outputId": "a7903661-c62e-40b0-d929-0272a7b52859",
        "colab": {
          "base_uri": "https://localhost:8080/",
          "height": 239
        }
      },
      "source": [
        "test['Seed_diff'] = test['Seed_1'] - test['Seed_2']\n",
        "test['Score_diff'] = test['Score_1'] - test['Score_2']\n",
        "test['Seed_diff'] = test['Seed_1'] - test['Seed_2']\n",
        "test['Score_diff'] = test['Score_1'] - test['Score_2']\n",
        "\n",
        "test['Count_diff'] = test['Count_1'] - test['Count_2']\n",
        "test['Mean_score1'] = test['Score_1'] / test['Count_1']\n",
        "test['Mean_score2'] = test['Score_2'] / test['Count_2']\n",
        "test['Mean_score_diff'] = test['Mean_score1'] - test['Mean_score2']\n",
        "test['Count_diff'] = test['Count_1'] - test['Count_2']\n",
        "test['Mean_score1'] = test['Score_1'] / test['Count_1']\n",
        "test['Mean_score2'] = test['Score_2'] / test['Count_2']\n",
        "test['Mean_score_diff'] = test['Mean_score1'] - test['Mean_score2']"
      ],
      "execution_count": 0,
      "outputs": [
        {
          "output_type": "error",
          "ename": "NameError",
          "evalue": "ignored",
          "traceback": [
            "\u001b[0;31m---------------------------------------------------------------------------\u001b[0m",
            "\u001b[0;31mNameError\u001b[0m                                 Traceback (most recent call last)",
            "\u001b[0;32m<ipython-input-28-4533f9753d7f>\u001b[0m in \u001b[0;36m<module>\u001b[0;34m()\u001b[0m\n\u001b[0;32m----> 1\u001b[0;31m \u001b[0mtest\u001b[0m\u001b[0;34m[\u001b[0m\u001b[0;34m'Seed_diff'\u001b[0m\u001b[0;34m]\u001b[0m \u001b[0;34m=\u001b[0m \u001b[0mtest\u001b[0m\u001b[0;34m[\u001b[0m\u001b[0;34m'Seed_1'\u001b[0m\u001b[0;34m]\u001b[0m \u001b[0;34m-\u001b[0m \u001b[0mtest\u001b[0m\u001b[0;34m[\u001b[0m\u001b[0;34m'Seed_2'\u001b[0m\u001b[0;34m]\u001b[0m\u001b[0;34m\u001b[0m\u001b[0;34m\u001b[0m\u001b[0m\n\u001b[0m\u001b[1;32m      2\u001b[0m \u001b[0mtest\u001b[0m\u001b[0;34m[\u001b[0m\u001b[0;34m'Score_diff'\u001b[0m\u001b[0;34m]\u001b[0m \u001b[0;34m=\u001b[0m \u001b[0mtest\u001b[0m\u001b[0;34m[\u001b[0m\u001b[0;34m'Score_1'\u001b[0m\u001b[0;34m]\u001b[0m \u001b[0;34m-\u001b[0m \u001b[0mtest\u001b[0m\u001b[0;34m[\u001b[0m\u001b[0;34m'Score_2'\u001b[0m\u001b[0;34m]\u001b[0m\u001b[0;34m\u001b[0m\u001b[0;34m\u001b[0m\u001b[0m\n\u001b[1;32m      3\u001b[0m \u001b[0mtest\u001b[0m\u001b[0;34m[\u001b[0m\u001b[0;34m'Seed_diff'\u001b[0m\u001b[0;34m]\u001b[0m \u001b[0;34m=\u001b[0m \u001b[0mtest\u001b[0m\u001b[0;34m[\u001b[0m\u001b[0;34m'Seed_1'\u001b[0m\u001b[0;34m]\u001b[0m \u001b[0;34m-\u001b[0m \u001b[0mtest\u001b[0m\u001b[0;34m[\u001b[0m\u001b[0;34m'Seed_2'\u001b[0m\u001b[0;34m]\u001b[0m\u001b[0;34m\u001b[0m\u001b[0;34m\u001b[0m\u001b[0m\n\u001b[1;32m      4\u001b[0m \u001b[0mtest\u001b[0m\u001b[0;34m[\u001b[0m\u001b[0;34m'Score_diff'\u001b[0m\u001b[0;34m]\u001b[0m \u001b[0;34m=\u001b[0m \u001b[0mtest\u001b[0m\u001b[0;34m[\u001b[0m\u001b[0;34m'Score_1'\u001b[0m\u001b[0;34m]\u001b[0m \u001b[0;34m-\u001b[0m \u001b[0mtest\u001b[0m\u001b[0;34m[\u001b[0m\u001b[0;34m'Score_2'\u001b[0m\u001b[0;34m]\u001b[0m\u001b[0;34m\u001b[0m\u001b[0;34m\u001b[0m\u001b[0m\n\u001b[1;32m      5\u001b[0m \u001b[0;34m\u001b[0m\u001b[0m\n",
            "\u001b[0;31mNameError\u001b[0m: name 'test' is not defined"
          ]
        }
      ]
    },
    {
      "cell_type": "code",
      "metadata": {
        "trusted": true,
        "id": "kgSF5HEp11rz",
        "colab_type": "code",
        "outputId": "182485dc-36cd-4b61-b585-055a67a72ee6",
        "colab": {
          "base_uri": "https://localhost:8080/",
          "height": 168
        }
      },
      "source": [
        "test.head()"
      ],
      "execution_count": 0,
      "outputs": [
        {
          "output_type": "error",
          "ename": "NameError",
          "evalue": "ignored",
          "traceback": [
            "\u001b[0;31m---------------------------------------------------------------------------\u001b[0m",
            "\u001b[0;31mNameError\u001b[0m                                 Traceback (most recent call last)",
            "\u001b[0;32m<ipython-input-29-ca7e793253ef>\u001b[0m in \u001b[0;36m<module>\u001b[0;34m()\u001b[0m\n\u001b[0;32m----> 1\u001b[0;31m \u001b[0mtest\u001b[0m\u001b[0;34m.\u001b[0m\u001b[0mhead\u001b[0m\u001b[0;34m(\u001b[0m\u001b[0;34m)\u001b[0m\u001b[0;34m\u001b[0m\u001b[0;34m\u001b[0m\u001b[0m\n\u001b[0m",
            "\u001b[0;31mNameError\u001b[0m: name 'test' is not defined"
          ]
        }
      ]
    },
    {
      "cell_type": "markdown",
      "metadata": {
        "id": "rnOonpyz11r3",
        "colab_type": "text"
      },
      "source": [
        "## Making predictions"
      ]
    },
    {
      "cell_type": "code",
      "metadata": {
        "trusted": true,
        "id": "iFlxH00311r4",
        "colab_type": "code",
        "outputId": "910a2868-cc17-44a8-b7a6-adfc23357ce1",
        "colab": {
          "base_uri": "https://localhost:8080/",
          "height": 168
        }
      },
      "source": [
        "test_preds = lgb_model.predict(test)"
      ],
      "execution_count": 0,
      "outputs": [
        {
          "output_type": "error",
          "ename": "NameError",
          "evalue": "ignored",
          "traceback": [
            "\u001b[0;31m---------------------------------------------------------------------------\u001b[0m",
            "\u001b[0;31mNameError\u001b[0m                                 Traceback (most recent call last)",
            "\u001b[0;32m<ipython-input-30-680dcefe4205>\u001b[0m in \u001b[0;36m<module>\u001b[0;34m()\u001b[0m\n\u001b[0;32m----> 1\u001b[0;31m \u001b[0mtest_preds\u001b[0m \u001b[0;34m=\u001b[0m \u001b[0mlgb_model\u001b[0m\u001b[0;34m.\u001b[0m\u001b[0mpredict\u001b[0m\u001b[0;34m(\u001b[0m\u001b[0mtest\u001b[0m\u001b[0;34m)\u001b[0m\u001b[0;34m\u001b[0m\u001b[0;34m\u001b[0m\u001b[0m\n\u001b[0m",
            "\u001b[0;31mNameError\u001b[0m: name 'lgb_model' is not defined"
          ]
        }
      ]
    },
    {
      "cell_type": "code",
      "metadata": {
        "trusted": true,
        "id": "vn0RYB1z11r7",
        "colab_type": "code",
        "colab": {}
      },
      "source": [
        "plt.hist(test_preds);"
      ],
      "execution_count": 0,
      "outputs": []
    },
    {
      "cell_type": "code",
      "metadata": {
        "trusted": true,
        "id": "kwY4UZ3E11r-",
        "colab_type": "code",
        "colab": {}
      },
      "source": [
        "submission_df = pd.read_csv('../input/google-cloud-ncaa-march-madness-2020-division-1-mens-tournament/MSampleSubmissionStage1_2020.csv')\n",
        "submission_df['Pred'] = test_preds\n",
        "submission_df"
      ],
      "execution_count": 0,
      "outputs": []
    },
    {
      "cell_type": "code",
      "metadata": {
        "trusted": true,
        "id": "BNSd8t-911sA",
        "colab_type": "code",
        "colab": {}
      },
      "source": [
        "submission_df.to_csv('submission.csv', index=False)"
      ],
      "execution_count": 0,
      "outputs": []
    }
  ]
}